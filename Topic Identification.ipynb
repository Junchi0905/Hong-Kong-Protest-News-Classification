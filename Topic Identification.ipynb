{
 "cells": [
  {
   "cell_type": "markdown",
   "metadata": {},
   "source": [
    "# Preprocess corpus"
   ]
  },
  {
   "cell_type": "code",
   "execution_count": 1,
   "metadata": {},
   "outputs": [],
   "source": [
    "import pandas as pd\n",
    "import nltk\n",
    "from nltk.tokenize import word_tokenize\n",
    "from nltk.corpus import stopwords\n",
    "from nltk.stem import PorterStemmer\n",
    "import os\n",
    "os.chdir('./Corpus')\n",
    "ps = PorterStemmer()\n",
    "stopwords_english = set(stopwords.words('english'))"
   ]
  },
  {
   "cell_type": "code",
   "execution_count": 2,
   "metadata": {},
   "outputs": [],
   "source": [
    "# Load Hong Kong Protest from Chinese newspaper\n",
    "china_daily = pd.read_csv('China Daily.csv')\n",
    "people_daily = pd.read_csv('People\\'s Daily.csv')\n",
    "xinhua_agent = pd.read_csv('Xinhua Agent.csv')\n",
    "# Load Hong Kong Protest from US newspaper\n",
    "Wall_Street_Journal = pd.read_csv('Wall Street Journal.csv')\n",
    "Washington_post = pd.read_csv('Washington Post.csv')\n",
    "New_York_Times = pd.read_csv('New York Times.csv')"
   ]
  },
  {
   "cell_type": "code",
   "execution_count": 3,
   "metadata": {},
   "outputs": [],
   "source": [
    "# Combine the Chinese newspaper corpus\n",
    "Chinese_newspaper = pd.concat([china_daily,people_daily,xinhua_agent],axis=0,ignore_index=True)\n",
    "# Combine the Hong Kong newspaper corpus\n",
    "US_newspaper = pd.concat([Wall_Street_Journal,New_York_Times,Washington_post],axis=0,ignore_index=True)"
   ]
  },
  {
   "cell_type": "code",
   "execution_count": 4,
   "metadata": {},
   "outputs": [],
   "source": [
    "# Drop missing value\n",
    "CN = Chinese_newspaper.dropna().reset_index(drop=True)\n",
    "US = US_newspaper.dropna()[:-3].reset_index(drop=True)"
   ]
  },
  {
   "cell_type": "code",
   "execution_count": 5,
   "metadata": {},
   "outputs": [
    {
     "name": "stdout",
     "output_type": "stream",
     "text": [
      "(549, 2)\n",
      "(549, 2)\n"
     ]
    }
   ],
   "source": [
    "print(CN.shape)\n",
    "print(US.shape)"
   ]
  },
  {
   "cell_type": "markdown",
   "metadata": {},
   "source": [
    "# Topic Identification"
   ]
  },
  {
   "cell_type": "markdown",
   "metadata": {},
   "source": [
    "# LDA (Latent Dirichlet Allocation)"
   ]
  },
  {
   "cell_type": "code",
   "execution_count": 6,
   "metadata": {},
   "outputs": [],
   "source": [
    "# compile documents\n",
    "doc_complete_CN = CN['text'].tolist()\n",
    "doc_complete_US = US['text'].tolist()"
   ]
  },
  {
   "cell_type": "code",
   "execution_count": 7,
   "metadata": {},
   "outputs": [],
   "source": [
    "from gensim import corpora\n",
    "from nltk.corpus import stopwords \n",
    "from nltk.stem.wordnet import WordNetLemmatizer\n",
    "import string\n",
    "stop = set(stopwords.words('english'))\n",
    "exclude = set(string.punctuation) \n",
    "lemma = WordNetLemmatizer()\n",
    "def clean(doc):\n",
    "    stop_free = \" \".join([i for i in doc.lower().split() if i not in stop])\n",
    "    punc_free = ''.join(ch for ch in stop_free if ch not in exclude)\n",
    "    normalized = \" \".join(lemma.lemmatize(word) for word in punc_free.split())\n",
    "    return normalized\n",
    "\n",
    "doc_clean_CN = [clean(doc).split() for doc in doc_complete_CN] \n",
    "doc_clean_US = [clean(doc).split() for doc in doc_complete_US]  \n",
    "\n",
    "dictionary_CN = corpora.Dictionary(doc_clean_CN)\n",
    "dictionary_US = corpora.Dictionary(doc_clean_US)\n"
   ]
  },
  {
   "cell_type": "code",
   "execution_count": 8,
   "metadata": {},
   "outputs": [
    {
     "data": {
      "text/plain": [
       "<gensim.corpora.dictionary.Dictionary at 0x1a25414c88>"
      ]
     },
     "execution_count": 8,
     "metadata": {},
     "output_type": "execute_result"
    }
   ],
   "source": [
    "dictionary_CN\n",
    "dictionary_US"
   ]
  },
  {
   "cell_type": "code",
   "execution_count": 9,
   "metadata": {},
   "outputs": [],
   "source": [
    "import gensim\n",
    "from gensim import corpora\n",
    "\n",
    "# Creating the term dictionary of our courpus, where every unique term is assigned an index. dictionary = corpora.Dictionary(doc_clean)\n",
    "\n",
    "# Converting list of documents (corpus) into Document Term Matrix using dictionary prepared above.\n",
    "doc_term_matrix_CN = [dictionary_CN.doc2bow(doc) for doc in doc_clean_CN]\n",
    "doc_term_matrix_US = [dictionary_US.doc2bow(doc) for doc in doc_clean_US]"
   ]
  },
  {
   "cell_type": "code",
   "execution_count": 10,
   "metadata": {},
   "outputs": [],
   "source": [
    "# print(doc_term_matrix_CN)\n",
    "# for i in doc_term_matrix_CN:\n",
    "#     print(i)"
   ]
  },
  {
   "cell_type": "code",
   "execution_count": 11,
   "metadata": {},
   "outputs": [],
   "source": [
    "# Creating the object for LDA model using gensim library\n",
    "Lda = gensim.models.ldamodel.LdaModel\n",
    "\n",
    "# Running and Trainign LDA model on the document term matrix.\n",
    "ldamodel_CN = Lda(doc_term_matrix_CN, num_topics=3, id2word = dictionary_CN, passes=50)\n",
    "ldamodel_US = Lda(doc_term_matrix_US, num_topics=3, id2word = dictionary_US, passes=50)"
   ]
  },
  {
   "cell_type": "code",
   "execution_count": 12,
   "metadata": {},
   "outputs": [
    {
     "name": "stdout",
     "output_type": "stream",
     "text": [
      "[(0, '0.024*\"hong\" + 0.019*\"kong\" + 0.012*\"said\"'), (1, '0.040*\"hong\" + 0.035*\"kong\" + 0.018*\"said\"'), (2, '0.029*\"police\" + 0.021*\"hong\" + 0.020*\"kong\"')]\n",
      "[(0, '0.016*\"china\" + 0.014*\"hong\" + 0.011*\"kong\"'), (1, '0.011*\"said\" + 0.010*\"company\" + 0.006*\"u\"'), (2, '0.026*\"hong\" + 0.020*\"kong\" + 0.013*\"protester\"')]\n"
     ]
    }
   ],
   "source": [
    "print(ldamodel_CN.print_topics(num_topics=3, num_words=3))\n",
    "print(ldamodel_US.print_topics(num_topics=3, num_words=3))"
   ]
  },
  {
   "cell_type": "markdown",
   "metadata": {},
   "source": [
    "# LSA (Latent Semantic Analysis)"
   ]
  },
  {
   "cell_type": "code",
   "execution_count": 250,
   "metadata": {},
   "outputs": [],
   "source": [
    "reindexed_data_CN = CN['text']\n",
    "reindexed_data_US = US['text']\n",
    "reindexed_data_CN.index = CN.index\n",
    "reindexed_data_US.index = US.index"
   ]
  },
  {
   "cell_type": "code",
   "execution_count": 251,
   "metadata": {
    "scrolled": true
   },
   "outputs": [
    {
     "data": {
      "text/plain": [
       "0    Policeman hospitalized with leg burns; large g...\n",
       "1    It's a reflection of Bruce Lee's transcendent ...\n",
       "2    Experts say it's harder to lure overseas talen...\n",
       "3    There is a dreary dismal familiarity to me in ...\n",
       "4    Editor's Note: The US Congress has made the pa...\n",
       "Name: text, dtype: object"
      ]
     },
     "metadata": {},
     "output_type": "display_data"
    }
   ],
   "source": [
    "display(reindexed_data_CN.head())"
   ]
  },
  {
   "cell_type": "code",
   "execution_count": 252,
   "metadata": {},
   "outputs": [
    {
     "data": {
      "text/plain": [
       "0    [Financial Analysis and Commentary]\\nPolitical...\n",
       "1    China appears to be making its long-expected m...\n",
       "2    [Financial Analysis and Commentary]\\nIn his pu...\n",
       "3    The possibility that Beijing would call in its...\n",
       "4    Hong Kong -- President Xi Jinping wanted Tuesd...\n",
       "Name: text, dtype: object"
      ]
     },
     "metadata": {},
     "output_type": "display_data"
    }
   ],
   "source": [
    "display(reindexed_data_US.head())"
   ]
  },
  {
   "cell_type": "code",
   "execution_count": 280,
   "metadata": {},
   "outputs": [
    {
     "name": "stderr",
     "output_type": "stream",
     "text": [
      "/anaconda3/lib/python3.6/site-packages/ipykernel_launcher.py:4: FutureWarning: Method .as_matrix will be removed in a future version. Use .values instead.\n",
      "  after removing the cwd from sys.path.\n",
      "/anaconda3/lib/python3.6/site-packages/ipykernel_launcher.py:5: FutureWarning: Method .as_matrix will be removed in a future version. Use .values instead.\n",
      "  \"\"\"\n"
     ]
    }
   ],
   "source": [
    "from sklearn.feature_extraction.text import CountVectorizer\n",
    "\n",
    "small_count_vectorizer = CountVectorizer(stop_words='english', max_features=400)\n",
    "small_text_sample_CN = reindexed_data_CN.as_matrix()\n",
    "small_text_sample_US = reindexed_data_US.as_matrix()\n",
    "\n",
    "#display(small_text_sample_CN)\n",
    "small_document_term_matrix_CN = small_count_vectorizer.fit_transform(small_text_sample_CN)\n",
    "small_document_term_matrix_US = small_count_vectorizer.fit_transform(small_text_sample_US)\n",
    "#display(small_document_term_matrix_CN)\n"
   ]
  },
  {
   "cell_type": "code",
   "execution_count": 281,
   "metadata": {},
   "outputs": [],
   "source": [
    "from sklearn.decomposition import TruncatedSVD\n",
    "\n",
    "n_topics = 8\n",
    "\n",
    "lsa_model = TruncatedSVD(n_components=n_topics)\n",
    "lsa_topic_matrix_CN = lsa_model.fit_transform(small_document_term_matrix_CN)\n",
    "lsa_topic_matrix_US = lsa_model.fit_transform(small_document_term_matrix_US)\n",
    "\n",
    "# display(lsa_topic_matrix_CN)"
   ]
  },
  {
   "cell_type": "code",
   "execution_count": 326,
   "metadata": {},
   "outputs": [],
   "source": [
    "from collections import Counter\n",
    "# Define helper functions\n",
    "def get_keys(topic_matrix):\n",
    "    '''returns an integer list of predicted topic categories for a given topic matrix'''\n",
    "    keys = []\n",
    "    for i in range(topic_matrix.shape[0]):\n",
    "        keys.append(topic_matrix[i].argmax())\n",
    "    return keys\n",
    "\n",
    "def keys_to_counts(keys):\n",
    "    '''returns a tuple of topic categories and their accompanying magnitudes for a given list of keys'''\n",
    "    count_pairs = sorted(Counter(keys).items())\n",
    "    categories = [pair[0] for pair in count_pairs]\n",
    "    counts = [pair[1] for pair in count_pairs]\n",
    "    return (categories, counts)"
   ]
  },
  {
   "cell_type": "code",
   "execution_count": 327,
   "metadata": {},
   "outputs": [],
   "source": [
    "lsa_keys_CN = get_keys(lsa_topic_matrix_CN)\n",
    "lsa_categories_CN, lsa_counts_CN = keys_to_counts(lsa_keys_CN)\n",
    "\n",
    "lsa_keys_US = get_keys(lsa_topic_matrix_US)\n",
    "lsa_categories_US, lsa_counts_US = keys_to_counts(lsa_keys_US)"
   ]
  },
  {
   "cell_type": "code",
   "execution_count": 328,
   "metadata": {},
   "outputs": [],
   "source": [
    "# Define helper functions\n",
    "def get_top_n_words(n, keys, document_term_matrix, count_vectorizer):\n",
    "    '''returns a list of n_topic strings, where each string contains the n most common \n",
    "        words in a predicted category, in order'''\n",
    "    categories, counts = keys_to_counts(keys)\n",
    "    top_word_indices = []\n",
    "    for topic in categories:\n",
    "        temp_vector_sum = 0\n",
    "        for i in range(len(keys)):\n",
    "            if keys[i] == topic:\n",
    "                temp_vector_sum += document_term_matrix[i]\n",
    "        temp_vector_sum = temp_vector_sum.toarray()\n",
    "        top_n_word_indices = np.flip(np.argsort(temp_vector_sum)[0][-n:],0)\n",
    "        top_word_indices.append(top_n_word_indices)   \n",
    "    top_words = []\n",
    "    for topic in top_word_indices:\n",
    "        topic_words = []\n",
    "        for index in topic:\n",
    "            temp_word_vector = np.zeros((1,document_term_matrix.shape[1]))\n",
    "            temp_word_vector[:,index] = 1\n",
    "            the_word = count_vectorizer.inverse_transform(temp_word_vector)[0][0]\n",
    "            topic_words.append(the_word.encode('ascii').decode('utf-8'))\n",
    "        top_words.append(\" \".join(topic_words))\n",
    "    return top_words, categories"
   ]
  },
  {
   "cell_type": "code",
   "execution_count": 329,
   "metadata": {},
   "outputs": [
    {
     "name": "stdout",
     "output_type": "stream",
     "text": [
      "Chinese Topic 0:  later important saturday pacific clear online hard war leadership washington\n",
      "Chinese Topic 1:  pacific popular mrs saturday washington later important taking washpost britain\n",
      "Chinese Topic 2:  clear close later important mao online day turned won territory\n",
      "Chinese Topic 7:  america night later important based saturday away power deal known\n",
      "US Topic 0:  hong kong said china police protesters chinese beijing people protests\n",
      "US Topic 1:  china chinese said mr trump american trade xi beijing party\n",
      "US Topic 3:  mr li said trump party president chinese communist power country\n",
      "US Topic 5:  trump president said trade united states china new world just\n"
     ]
    }
   ],
   "source": [
    "import numpy as np\n",
    "top_n_words_lsa_CN, topic_n_CN = get_top_n_words(10, lsa_keys_CN, small_document_term_matrix_CN, small_count_vectorizer)\n",
    "top_n_words_lsa_US, topic_n_US = get_top_n_words(10, lsa_keys_US, small_document_term_matrix_US, small_count_vectorizer)\n",
    "\n",
    "for i in range(len(topic_CN)):\n",
    "    print(\"Chinese Topic {}: \".format(topic_CN[i]), top_n_words_lsa_CN[i])\n",
    "for i in range(len(topic_US)):\n",
    "    print(\"US Topic {}: \".format(topic_US[i]), top_n_words_lsa_US[i])"
   ]
  },
  {
   "cell_type": "code",
   "execution_count": 344,
   "metadata": {},
   "outputs": [
    {
     "data": {
      "text/plain": [
       "Text(0.5,1,'LSA Topic Category Counts - Chinese Newspaper')"
      ]
     },
     "execution_count": 344,
     "metadata": {},
     "output_type": "execute_result"
    },
    {
     "data": {
      "image/png": "[encoded data removed]",
      "text/plain": [
       "<Figure size 1152x576 with 1 Axes>"
      ]
     },
     "metadata": {},
     "output_type": "display_data"
    }
   ],
   "source": [
    "import matplotlib.pyplot as plt\n",
    "import matplotlib.mlab as mlab\n",
    "\n",
    "%matplotlib inline\n",
    "top_3_words_CN, topic_3_CN = get_top_n_words(3, lsa_keys_CN, small_document_term_matrix_CN, small_count_vectorizer)\n",
    "labels = ['Topic {}: \\n'.format(topic_3_CN[i]) + top_3_words_CN[i] for i in range(len(topic_CN))]\n",
    "\n",
    "fig, ax = plt.subplots(figsize=(16,8))\n",
    "ax.bar(list(i for i in range(len(lsa_categories_CN))), lsa_counts_CN)\n",
    "ax.set_xticks(list(i for i in range(len(lsa_categories_CN))))\n",
    "ax.set_xticklabels(labels)\n",
    "ax.set_title('LSA Topic Category Counts - Chinese Newspaper')"
   ]
  },
  {
   "cell_type": "code",
   "execution_count": 342,
   "metadata": {},
   "outputs": [
    {
     "data": {
      "text/plain": [
       "Text(0.5,1,'LSA Topic Category Counts - US Newspaper')"
      ]
     },
     "execution_count": 342,
     "metadata": {},
     "output_type": "execute_result"
    },
    {
     "data": {
      "image/png": "[encoded data removed]",
      "text/plain": [
       "<Figure size 1152x576 with 1 Axes>"
      ]
     },
     "metadata": {},
     "output_type": "display_data"
    }
   ],
   "source": [
    "import matplotlib.pyplot as plt\n",
    "import matplotlib.mlab as mlab\n",
    "\n",
    "%matplotlib inline\n",
    "top_3_words_US, topic_3_US = get_top_n_words(3, lsa_keys_US, small_document_term_matrix_US, small_count_vectorizer)\n",
    "labels = ['Topic {}: \\n'.format(topic_3_US[i]) + top_3_words_US[i] for i in range(len(topic_US))]\n",
    "\n",
    "fig, ax = plt.subplots(figsize=(16,8))\n",
    "ax.bar(list(i for i in range(len(lsa_categories_US))), lsa_counts_US)\n",
    "ax.set_xticks(list(i for i in range(len(lsa_categories_US))))\n",
    "ax.set_xticklabels(labels)\n",
    "ax.set_title('LSA Topic Category Counts - US Newspaper')"
   ]
  },
  {
   "cell_type": "code",
   "execution_count": null,
   "metadata": {},
   "outputs": [],
   "source": []
  }
 ],
 "metadata": {
  "kernelspec": {
   "display_name": "Python 3",
   "language": "python",
   "name": "python3"
  },
  "language_info": {
   "codemirror_mode": {
    "name": "ipython",
    "version": 3
   },
   "file_extension": ".py",
   "mimetype": "text/x-python",
   "name": "python",
   "nbconvert_exporter": "python",
   "pygments_lexer": "ipython3",
   "version": "3.6.5"
  }
 },
 "nbformat": 4,
 "nbformat_minor": 2
}
