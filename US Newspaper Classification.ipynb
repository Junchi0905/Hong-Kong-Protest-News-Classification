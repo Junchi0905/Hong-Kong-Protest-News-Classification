{
 "cells": [
  {
   "cell_type": "code",
   "execution_count": 1,
   "metadata": {},
   "outputs": [],
   "source": [
    "# Import packages\n",
    "import numpy as np\n",
    "import pandas as pd\n",
    "import re\n",
    "import nltk\n",
    "from nltk.tokenize import word_tokenize\n",
    "from nltk.corpus import stopwords\n",
    "from nltk.stem import PorterStemmer\n",
    "from sklearn.model_selection import train_test_split\n",
    "from sklearn import preprocessing\n",
    "from sklearn.feature_extraction.text import CountVectorizer, TfidfVectorizer\n",
    "from sklearn.naive_bayes import MultinomialNB\n",
    "from xgboost import XGBClassifier\n",
    "from sklearn.metrics import accuracy_score, precision_score, f1_score, classification_report, confusion_matrix\n",
    "\n",
    "import matplotlib.pyplot as plt\n",
    "%run C:/Users/siebe/Documents/JT_Charts.ipynb\n",
    "\n",
    "ps = PorterStemmer()\n",
    "stopwords_english = set(stopwords.words('english'))"
   ]
  },
  {
   "cell_type": "code",
   "execution_count": 2,
   "metadata": {},
   "outputs": [
    {
     "data": {
      "text/html": [
       "<div>\n",
       "<style scoped>\n",
       "    .dataframe tbody tr th:only-of-type {\n",
       "        vertical-align: middle;\n",
       "    }\n",
       "\n",
       "    .dataframe tbody tr th {\n",
       "        vertical-align: top;\n",
       "    }\n",
       "\n",
       "    .dataframe thead th {\n",
       "        text-align: right;\n",
       "    }\n",
       "</style>\n",
       "<table border=\"1\" class=\"dataframe\">\n",
       "  <thead>\n",
       "    <tr style=\"text-align: right;\">\n",
       "      <th></th>\n",
       "      <th>text</th>\n",
       "      <th>newspaper</th>\n",
       "    </tr>\n",
       "  </thead>\n",
       "  <tbody>\n",
       "    <tr>\n",
       "      <td>0</td>\n",
       "      <td>[Financial Analysis and Commentary]\\nPolitical...</td>\n",
       "      <td>Wall Street Journal</td>\n",
       "    </tr>\n",
       "    <tr>\n",
       "      <td>1</td>\n",
       "      <td>China appears to be making its long-expected m...</td>\n",
       "      <td>Wall Street Journal</td>\n",
       "    </tr>\n",
       "    <tr>\n",
       "      <td>2</td>\n",
       "      <td>[Financial Analysis and Commentary]\\nIn his pu...</td>\n",
       "      <td>Wall Street Journal</td>\n",
       "    </tr>\n",
       "    <tr>\n",
       "      <td>3</td>\n",
       "      <td>The possibility that Beijing would call in its...</td>\n",
       "      <td>Wall Street Journal</td>\n",
       "    </tr>\n",
       "    <tr>\n",
       "      <td>4</td>\n",
       "      <td>Hong Kong -- President Xi Jinping wanted Tuesd...</td>\n",
       "      <td>Wall Street Journal</td>\n",
       "    </tr>\n",
       "  </tbody>\n",
       "</table>\n",
       "</div>"
      ],
      "text/plain": [
       "                                                text            newspaper\n",
       "0  [Financial Analysis and Commentary]\\nPolitical...  Wall Street Journal\n",
       "1  China appears to be making its long-expected m...  Wall Street Journal\n",
       "2  [Financial Analysis and Commentary]\\nIn his pu...  Wall Street Journal\n",
       "3  The possibility that Beijing would call in its...  Wall Street Journal\n",
       "4  Hong Kong -- President Xi Jinping wanted Tuesd...  Wall Street Journal"
      ]
     },
     "execution_count": 2,
     "metadata": {},
     "output_type": "execute_result"
    }
   ],
   "source": [
    "# Corpus\n",
    "## US newspapers\n",
    "Wall_Street_Journal = pd.read_csv('Wall Street Journal.csv')\n",
    "Washington_post = pd.read_csv('Washington Post.csv')\n",
    "New_York_Times = pd.read_csv('New York Times.csv')\n",
    "\n",
    "def corpus_create(news, val):\n",
    "    news = news.drop(['title'], axis=1)\n",
    "    news = news.dropna(how='all')\n",
    "    news['newspaper'] = val\n",
    "    return news\n",
    "\n",
    "Wall_Street_Journal = corpus_create(Wall_Street_Journal, 'Wall Street Journal')\n",
    "Washington_post = corpus_create(Washington_post, 'Washington Post')\n",
    "New_York_Times = corpus_create(New_York_Times, 'New York Times')\n",
    "\n",
    "corpus=pd.concat([Wall_Street_Journal, New_York_Times, Washington_post],axis=0,ignore_index=True)\n",
    "\n",
    "corpus.head()"
   ]
  },
  {
   "cell_type": "code",
   "execution_count": 3,
   "metadata": {},
   "outputs": [
    {
     "data": {
      "text/plain": [
       "Wall Street Journal    216\n",
       "Washington Post        209\n",
       "New York Times         127\n",
       "Name: newspaper, dtype: int64"
      ]
     },
     "execution_count": 3,
     "metadata": {},
     "output_type": "execute_result"
    }
   ],
   "source": [
    "# Balance\n",
    "corpus['newspaper'].value_counts()"
   ]
  },
  {
   "cell_type": "code",
   "execution_count": 4,
   "metadata": {},
   "outputs": [
    {
     "data": {
      "text/html": [
       "<div>\n",
       "<style scoped>\n",
       "    .dataframe tbody tr th:only-of-type {\n",
       "        vertical-align: middle;\n",
       "    }\n",
       "\n",
       "    .dataframe tbody tr th {\n",
       "        vertical-align: top;\n",
       "    }\n",
       "\n",
       "    .dataframe thead th {\n",
       "        text-align: right;\n",
       "    }\n",
       "</style>\n",
       "<table border=\"1\" class=\"dataframe\">\n",
       "  <thead>\n",
       "    <tr style=\"text-align: right;\">\n",
       "      <th></th>\n",
       "      <th>text</th>\n",
       "      <th>newspaper</th>\n",
       "    </tr>\n",
       "  </thead>\n",
       "  <tbody>\n",
       "    <tr>\n",
       "      <td>0</td>\n",
       "      <td>['financi analysi and polit unrest ha cast dou...</td>\n",
       "      <td>Wall Street Journal</td>\n",
       "    </tr>\n",
       "    <tr>\n",
       "      <td>1</td>\n",
       "      <td>['china appear to be make it longexpect move t...</td>\n",
       "      <td>Wall Street Journal</td>\n",
       "    </tr>\n",
       "    <tr>\n",
       "      <td>2</td>\n",
       "      <td>['financi analysi and in hi pursuit of the roa...</td>\n",
       "      <td>Wall Street Journal</td>\n",
       "    </tr>\n",
       "    <tr>\n",
       "      <td>3</td>\n",
       "      <td>['the possibl that beij would call in it armi ...</td>\n",
       "      <td>Wall Street Journal</td>\n",
       "    </tr>\n",
       "    <tr>\n",
       "      <td>4</td>\n",
       "      <td>['hong kong  presid xi jinp want tuesday  beij...</td>\n",
       "      <td>Wall Street Journal</td>\n",
       "    </tr>\n",
       "  </tbody>\n",
       "</table>\n",
       "</div>"
      ],
      "text/plain": [
       "                                                text            newspaper\n",
       "0  ['financi analysi and polit unrest ha cast dou...  Wall Street Journal\n",
       "1  ['china appear to be make it longexpect move t...  Wall Street Journal\n",
       "2  ['financi analysi and in hi pursuit of the roa...  Wall Street Journal\n",
       "3  ['the possibl that beij would call in it armi ...  Wall Street Journal\n",
       "4  ['hong kong  presid xi jinp want tuesday  beij...  Wall Street Journal"
      ]
     },
     "execution_count": 4,
     "metadata": {},
     "output_type": "execute_result"
    }
   ],
   "source": [
    "keywords = [\"\\'s\", \"china daily\", \"people daily\", \"xinhua\", \n",
    "            \"wall street journal\", \"new york times\", \"washington post\",\n",
    "           \"editorial\", \"commentary\"]\n",
    "\n",
    "# Case removal, non-alpha removal, keyword removal, and stemming\n",
    "corpus['text'] = corpus['text'].str.split()\n",
    "corpus['text'] = corpus['text'].apply(lambda x: [re.sub(r'[^a-zA-Z]', \"\",y.lower()) for y in x])\n",
    "corpus['text'] = corpus['text'].apply(lambda x: [y for y in x if y not in keywords])\n",
    "corpus['text'] = corpus['text'].apply(lambda x: [ps.stem(y) for y in x])\n",
    "corpus['text'] = corpus['text'].apply(lambda x: [' '.join(x)])\n",
    "corpus['text'] = pd.Series(corpus['text']).astype(str)\n",
    "corpus.head()"
   ]
  },
  {
   "cell_type": "code",
   "execution_count": 5,
   "metadata": {},
   "outputs": [
    {
     "name": "stdout",
     "output_type": "stream",
     "text": [
      "51     ['in the end there wa no big octob surpris for...\n",
      "79     ['beij  china confirm that mainland polic have...\n",
      "245    ['i just didnt realiz it hong kong  first came...\n",
      "403    ['australia new zealand reassess tie as beij b...\n",
      "214    ['hong kong  polic arrest three promin opposit...\n",
      "Name: text, dtype: object\n"
     ]
    }
   ],
   "source": [
    "# Split data\n",
    "\n",
    "# Separate features and target\n",
    "corpus_text = corpus.iloc[:,0]\n",
    "corpus_classes = corpus.iloc[:,1]\n",
    "\n",
    "# split the dataset into training and validation datasets \n",
    "x_train, x_test, y_train, y_test = train_test_split(corpus_text, corpus_classes, \n",
    "                                                    test_size=0.3, stratify=corpus_classes)\n",
    "print(x_train.head())"
   ]
  },
  {
   "cell_type": "code",
   "execution_count": 6,
   "metadata": {},
   "outputs": [
    {
     "data": {
      "text/plain": [
       "array(['New York Times', 'Wall Street Journal', 'Washington Post'],\n",
       "      dtype=object)"
      ]
     },
     "execution_count": 6,
     "metadata": {},
     "output_type": "execute_result"
    }
   ],
   "source": [
    "# label encode the target variable \n",
    "labels = preprocessing.LabelEncoder()\n",
    "y_train = labels.fit_transform(y_train)\n",
    "y_test = labels.fit_transform(y_test)\n",
    "labels.classes_"
   ]
  },
  {
   "cell_type": "markdown",
   "metadata": {},
   "source": [
    "# Create document term matrices\n",
    "### Create binary DTM in which words present in doc receive value of one\n",
    "### Create term frequency DTM to emphasize most commonly used words\n",
    "### Create TF-IDF DTM to emphasize words most specific to each document"
   ]
  },
  {
   "cell_type": "code",
   "execution_count": 7,
   "metadata": {},
   "outputs": [
    {
     "name": "stdout",
     "output_type": "stream",
     "text": [
      "Count of terms 3981\n",
      "[[0 0 0 ... 0 0 0]\n",
      " [0 0 0 ... 0 0 0]\n",
      " [0 0 0 ... 0 0 0]\n",
      " ...\n",
      " [0 0 0 ... 0 0 0]\n",
      " [1 0 0 ... 0 0 0]\n",
      " [0 0 0 ... 0 0 0]]\n"
     ]
    }
   ],
   "source": [
    "# Create Unigram, Binary DTM\n",
    "vectorizer = CountVectorizer(stop_words='english', min_df=int(5), max_df=0.9, ngram_range=(1, 1), binary=True) \n",
    "vectorizer.fit(x_train)\n",
    "binary1_train = vectorizer.transform(x_train)\n",
    "binary1_test = vectorizer.transform(x_test)\n",
    "\n",
    "print(\"Count of terms\", len(vectorizer.get_feature_names()))\n",
    "print(binary1_train.toarray()) "
   ]
  },
  {
   "cell_type": "code",
   "execution_count": 8,
   "metadata": {},
   "outputs": [
    {
     "name": "stdout",
     "output_type": "stream",
     "text": [
      "Count of terms 7059\n",
      "[[0 0 0 ... 0 0 0]\n",
      " [0 0 0 ... 0 0 0]\n",
      " [0 0 0 ... 0 0 0]\n",
      " ...\n",
      " [0 0 0 ... 0 0 0]\n",
      " [1 0 0 ... 0 0 0]\n",
      " [0 0 0 ... 0 0 0]]\n"
     ]
    }
   ],
   "source": [
    "# Create Bigram, Binary DTM\n",
    "vectorizer = CountVectorizer(stop_words='english', min_df=int(5), max_df=0.9, ngram_range=(1, 2), binary=True) \n",
    "vectorizer.fit(x_train)\n",
    "binary2_train = vectorizer.transform(x_train)\n",
    "binary2_test = vectorizer.transform(x_test)\n",
    "\n",
    "print(\"Count of terms\", len(vectorizer.get_feature_names()))\n",
    "print(binary2_train.toarray()) "
   ]
  },
  {
   "cell_type": "code",
   "execution_count": 9,
   "metadata": {},
   "outputs": [
    {
     "name": "stdout",
     "output_type": "stream",
     "text": [
      "Count of terms 7858\n",
      "[[0 0 0 ... 0 0 0]\n",
      " [0 0 0 ... 0 0 0]\n",
      " [0 0 0 ... 0 0 0]\n",
      " ...\n",
      " [0 0 0 ... 0 0 0]\n",
      " [1 0 0 ... 0 0 0]\n",
      " [0 0 0 ... 0 0 0]]\n"
     ]
    }
   ],
   "source": [
    "# Create Trigram, Binary DTM\n",
    "vectorizer = CountVectorizer(stop_words='english', min_df=int(5), max_df=0.9, ngram_range=(1, 3), binary=True) \n",
    "vectorizer.fit(x_train)\n",
    "binary3_train = vectorizer.transform(x_train)\n",
    "binary3_test = vectorizer.transform(x_test)\n",
    "\n",
    "print(\"Count of terms\", len(vectorizer.get_feature_names()))\n",
    "print(binary3_train.toarray()) "
   ]
  },
  {
   "cell_type": "code",
   "execution_count": 10,
   "metadata": {},
   "outputs": [
    {
     "name": "stdout",
     "output_type": "stream",
     "text": [
      "Count of terms 3981\n",
      "[[0 0 0 ... 0 0 0]\n",
      " [0 0 0 ... 0 0 0]\n",
      " [0 0 0 ... 0 0 0]\n",
      " ...\n",
      " [0 0 0 ... 0 0 0]\n",
      " [1 0 0 ... 0 0 0]\n",
      " [0 0 0 ... 0 0 0]]\n"
     ]
    }
   ],
   "source": [
    "# Create Unigram, Term Frequency DTM\n",
    "vectorizer = CountVectorizer(stop_words='english', min_df=int(5), max_df=0.9, ngram_range=(1, 1)) \n",
    "vectorizer.fit(x_train)\n",
    "tf1_train = vectorizer.transform(x_train)\n",
    "tf1_test = vectorizer.transform(x_test)\n",
    "\n",
    "print(\"Count of terms\", len(vectorizer.get_feature_names()))\n",
    "print(tf1_train.toarray()) "
   ]
  },
  {
   "cell_type": "code",
   "execution_count": 11,
   "metadata": {},
   "outputs": [
    {
     "name": "stdout",
     "output_type": "stream",
     "text": [
      "Count of terms 7059\n",
      "[[0 0 0 ... 0 0 0]\n",
      " [0 0 0 ... 0 0 0]\n",
      " [0 0 0 ... 0 0 0]\n",
      " ...\n",
      " [0 0 0 ... 0 0 0]\n",
      " [1 0 0 ... 0 0 0]\n",
      " [0 0 0 ... 0 0 0]]\n"
     ]
    }
   ],
   "source": [
    "# Create Bigram, Term Frequency DTM\n",
    "vectorizer = CountVectorizer(stop_words='english', min_df=int(5), max_df=0.9, ngram_range=(1, 2)) \n",
    "vectorizer.fit(x_train)\n",
    "tf2_train = vectorizer.transform(x_train)\n",
    "tf2_test = vectorizer.transform(x_test)\n",
    "\n",
    "print(\"Count of terms\", len(vectorizer.get_feature_names()))\n",
    "print(tf2_train.toarray()) "
   ]
  },
  {
   "cell_type": "code",
   "execution_count": 12,
   "metadata": {},
   "outputs": [
    {
     "name": "stdout",
     "output_type": "stream",
     "text": [
      "Count of terms 7858\n",
      "[[0 0 0 ... 0 0 0]\n",
      " [0 0 0 ... 0 0 0]\n",
      " [0 0 0 ... 0 0 0]\n",
      " ...\n",
      " [0 0 0 ... 0 0 0]\n",
      " [1 0 0 ... 0 0 0]\n",
      " [0 0 0 ... 0 0 0]]\n"
     ]
    }
   ],
   "source": [
    "# Create Trigram, Term Frequency DTM\n",
    "vectorizer = CountVectorizer(stop_words='english', min_df=int(5), max_df=0.9, ngram_range=(1, 3)) \n",
    "vectorizer.fit(x_train)\n",
    "tf3_train = vectorizer.transform(x_train)\n",
    "tf3_test = vectorizer.transform(x_test)\n",
    "\n",
    "print(\"Count of terms\", len(vectorizer.get_feature_names()))\n",
    "print(tf3_train.toarray()) "
   ]
  },
  {
   "cell_type": "code",
   "execution_count": 13,
   "metadata": {},
   "outputs": [
    {
     "name": "stdout",
     "output_type": "stream",
     "text": [
      "Count of terms 3981\n",
      "[[0.         0.         0.         ... 0.         0.         0.        ]\n",
      " [0.         0.         0.         ... 0.         0.         0.        ]\n",
      " [0.         0.         0.         ... 0.         0.         0.        ]\n",
      " ...\n",
      " [0.         0.         0.         ... 0.         0.         0.        ]\n",
      " [0.05307291 0.         0.         ... 0.         0.         0.        ]\n",
      " [0.         0.         0.         ... 0.         0.         0.        ]]\n"
     ]
    }
   ],
   "source": [
    "# Create Unigram, TF-IDF DTM\n",
    "vectorizer = TfidfVectorizer(stop_words='english', min_df=int(5), max_df=0.9, ngram_range=(1, 1))\n",
    "vectorizer.fit(x_train)\n",
    "tfidf1_train = vectorizer.transform(x_train)\n",
    "tfidf1_test = vectorizer.transform(x_test)\n",
    "\n",
    "print(\"Count of terms\", len(vectorizer.get_feature_names()))\n",
    "print(tfidf1_train.toarray()) "
   ]
  },
  {
   "cell_type": "code",
   "execution_count": 14,
   "metadata": {},
   "outputs": [
    {
     "name": "stdout",
     "output_type": "stream",
     "text": [
      "Count of terms 7059\n",
      "[[0.         0.         0.         ... 0.         0.         0.        ]\n",
      " [0.         0.         0.         ... 0.         0.         0.        ]\n",
      " [0.         0.         0.         ... 0.         0.         0.        ]\n",
      " ...\n",
      " [0.         0.         0.         ... 0.         0.         0.        ]\n",
      " [0.04912643 0.         0.         ... 0.         0.         0.        ]\n",
      " [0.         0.         0.         ... 0.         0.         0.        ]]\n"
     ]
    }
   ],
   "source": [
    "# Create Bigram, TF-IDF DTM\n",
    "vectorizer = TfidfVectorizer(stop_words='english', min_df=int(5), max_df=0.9, ngram_range=(1, 2))\n",
    "vectorizer.fit(x_train)\n",
    "tfidf2_train = vectorizer.transform(x_train)\n",
    "tfidf2_test = vectorizer.transform(x_test)\n",
    "\n",
    "print(\"Count of terms\", len(vectorizer.get_feature_names()))\n",
    "print(tfidf2_train.toarray()) "
   ]
  },
  {
   "cell_type": "code",
   "execution_count": 15,
   "metadata": {},
   "outputs": [
    {
     "name": "stdout",
     "output_type": "stream",
     "text": [
      "Count of terms 7858\n",
      "[[0.         0.         0.         ... 0.         0.         0.        ]\n",
      " [0.         0.         0.         ... 0.         0.         0.        ]\n",
      " [0.         0.         0.         ... 0.         0.         0.        ]\n",
      " ...\n",
      " [0.         0.         0.         ... 0.         0.         0.        ]\n",
      " [0.04799482 0.         0.         ... 0.         0.         0.        ]\n",
      " [0.         0.         0.         ... 0.         0.         0.        ]]\n"
     ]
    }
   ],
   "source": [
    "# Create Trigram, TF-IDF DTM\n",
    "vectorizer = TfidfVectorizer(stop_words='english', min_df=int(5), max_df=0.9, ngram_range=(1, 3))\n",
    "vectorizer.fit(x_train)\n",
    "tfidf3_train = vectorizer.transform(x_train)\n",
    "tfidf3_test = vectorizer.transform(x_test)\n",
    "\n",
    "print(\"Count of terms\", len(vectorizer.get_feature_names()))\n",
    "print(tfidf3_train.toarray())"
   ]
  },
  {
   "cell_type": "markdown",
   "metadata": {},
   "source": [
    "# Model nine configurations in a loop"
   ]
  },
  {
   "cell_type": "code",
   "execution_count": 16,
   "metadata": {},
   "outputs": [],
   "source": [
    "# Define model training\n",
    "def train_model(dtm, test):\n",
    "    # model the training data\n",
    "    clf.fit(dtm, y_train)\n",
    "    \n",
    "    # predictions on the test data\n",
    "    preds = clf.predict(test)\n",
    "    \n",
    "    # print metrics\n",
    "    print(\"Accuracy:\", '{:1.4f}'.format(accuracy_score(y_test, preds)))\n",
    "    print(\"\")\n",
    "    print(classification_report(y_test, preds))\n",
    "    print(\"Confusion Matrix:\")\n",
    "    print(confusion_matrix(y_test, preds))\n",
    "    \n",
    "    return '{:1.4f}'.format(accuracy_score(y_test, preds))"
   ]
  },
  {
   "cell_type": "code",
   "execution_count": 17,
   "metadata": {},
   "outputs": [
    {
     "name": "stdout",
     "output_type": "stream",
     "text": [
      "unigram, binary\n",
      "\n",
      "Accuracy: 0.9880\n",
      "\n",
      "              precision    recall  f1-score   support\n",
      "\n",
      "           0       1.00      1.00      1.00        38\n",
      "           1       0.98      0.98      0.98        65\n",
      "           2       0.98      0.98      0.98        63\n",
      "\n",
      "    accuracy                           0.99       166\n",
      "   macro avg       0.99      0.99      0.99       166\n",
      "weighted avg       0.99      0.99      0.99       166\n",
      "\n",
      "Confusion Matrix:\n",
      "[[38  0  0]\n",
      " [ 0 64  1]\n",
      " [ 0  1 62]]\n",
      "======================================================\n",
      "\n",
      "bigram, binary\n",
      "\n",
      "Accuracy: 0.9819\n",
      "\n",
      "              precision    recall  f1-score   support\n",
      "\n",
      "           0       1.00      1.00      1.00        38\n",
      "           1       0.97      0.98      0.98        65\n",
      "           2       0.98      0.97      0.98        63\n",
      "\n",
      "    accuracy                           0.98       166\n",
      "   macro avg       0.98      0.98      0.98       166\n",
      "weighted avg       0.98      0.98      0.98       166\n",
      "\n",
      "Confusion Matrix:\n",
      "[[38  0  0]\n",
      " [ 0 64  1]\n",
      " [ 0  2 61]]\n",
      "======================================================\n",
      "\n",
      "trigram, binary\n",
      "\n",
      "Accuracy: 0.9819\n",
      "\n",
      "              precision    recall  f1-score   support\n",
      "\n",
      "           0       1.00      1.00      1.00        38\n",
      "           1       0.97      0.98      0.98        65\n",
      "           2       0.98      0.97      0.98        63\n",
      "\n",
      "    accuracy                           0.98       166\n",
      "   macro avg       0.98      0.98      0.98       166\n",
      "weighted avg       0.98      0.98      0.98       166\n",
      "\n",
      "Confusion Matrix:\n",
      "[[38  0  0]\n",
      " [ 0 64  1]\n",
      " [ 0  2 61]]\n",
      "======================================================\n",
      "\n",
      "unigram, TF\n",
      "\n",
      "Accuracy: 0.9819\n",
      "\n",
      "              precision    recall  f1-score   support\n",
      "\n",
      "           0       1.00      1.00      1.00        38\n",
      "           1       0.98      0.97      0.98        65\n",
      "           2       0.97      0.98      0.98        63\n",
      "\n",
      "    accuracy                           0.98       166\n",
      "   macro avg       0.98      0.98      0.98       166\n",
      "weighted avg       0.98      0.98      0.98       166\n",
      "\n",
      "Confusion Matrix:\n",
      "[[38  0  0]\n",
      " [ 0 63  2]\n",
      " [ 0  1 62]]\n",
      "======================================================\n",
      "\n",
      "bigram, TF\n",
      "\n",
      "Accuracy: 0.9759\n",
      "\n",
      "              precision    recall  f1-score   support\n",
      "\n",
      "           0       1.00      1.00      1.00        38\n",
      "           1       0.97      0.97      0.97        65\n",
      "           2       0.97      0.97      0.97        63\n",
      "\n",
      "    accuracy                           0.98       166\n",
      "   macro avg       0.98      0.98      0.98       166\n",
      "weighted avg       0.98      0.98      0.98       166\n",
      "\n",
      "Confusion Matrix:\n",
      "[[38  0  0]\n",
      " [ 0 63  2]\n",
      " [ 0  2 61]]\n",
      "======================================================\n",
      "\n",
      "trigram, TF\n",
      "\n",
      "Accuracy: 0.9819\n",
      "\n",
      "              precision    recall  f1-score   support\n",
      "\n",
      "           0       1.00      1.00      1.00        38\n",
      "           1       0.98      0.97      0.98        65\n",
      "           2       0.97      0.98      0.98        63\n",
      "\n",
      "    accuracy                           0.98       166\n",
      "   macro avg       0.98      0.98      0.98       166\n",
      "weighted avg       0.98      0.98      0.98       166\n",
      "\n",
      "Confusion Matrix:\n",
      "[[38  0  0]\n",
      " [ 0 63  2]\n",
      " [ 0  1 62]]\n",
      "======================================================\n",
      "\n",
      "unigram, TF-IDF\n",
      "\n",
      "Accuracy: 0.9819\n",
      "\n",
      "              precision    recall  f1-score   support\n",
      "\n",
      "           0       1.00      1.00      1.00        38\n",
      "           1       0.98      0.97      0.98        65\n",
      "           2       0.97      0.98      0.98        63\n",
      "\n",
      "    accuracy                           0.98       166\n",
      "   macro avg       0.98      0.98      0.98       166\n",
      "weighted avg       0.98      0.98      0.98       166\n",
      "\n",
      "Confusion Matrix:\n",
      "[[38  0  0]\n",
      " [ 0 63  2]\n",
      " [ 0  1 62]]\n",
      "======================================================\n",
      "\n",
      "bigram, TF-IDF\n",
      "\n",
      "Accuracy: 0.9819\n",
      "\n",
      "              precision    recall  f1-score   support\n",
      "\n",
      "           0       1.00      1.00      1.00        38\n",
      "           1       0.97      0.98      0.98        65\n",
      "           2       0.98      0.97      0.98        63\n",
      "\n",
      "    accuracy                           0.98       166\n",
      "   macro avg       0.98      0.98      0.98       166\n",
      "weighted avg       0.98      0.98      0.98       166\n",
      "\n",
      "Confusion Matrix:\n",
      "[[38  0  0]\n",
      " [ 0 64  1]\n",
      " [ 0  2 61]]\n",
      "======================================================\n",
      "\n",
      "trigram, TF-IDF\n",
      "\n",
      "Accuracy: 0.9819\n",
      "\n",
      "              precision    recall  f1-score   support\n",
      "\n",
      "           0       1.00      1.00      1.00        38\n",
      "           1       0.98      0.97      0.98        65\n",
      "           2       0.97      0.98      0.98        63\n",
      "\n",
      "    accuracy                           0.98       166\n",
      "   macro avg       0.98      0.98      0.98       166\n",
      "weighted avg       0.98      0.98      0.98       166\n",
      "\n",
      "Confusion Matrix:\n",
      "[[38  0  0]\n",
      " [ 0 63  2]\n",
      " [ 0  1 62]]\n",
      "======================================================\n",
      "\n"
     ]
    }
   ],
   "source": [
    "# Use Naive Bayes\n",
    "clf = XGBClassifier() #MultinomialNB()\n",
    "\n",
    "# Model Configurations\n",
    "binary1 = (\"unigram, binary\", binary1_train, binary1_test)\n",
    "binary2 = (\"bigram, binary\",  binary2_train, binary2_test)\n",
    "binary3 = (\"trigram, binary\", binary3_train, binary3_test)\n",
    "tf1 = (\"unigram, TF\", tf1_train, tf1_test)\n",
    "tf2 = (\"bigram, TF\",  tf2_train, tf2_test)\n",
    "tf3 = (\"trigram, TF\", tf3_train, tf3_test)\n",
    "tfidf1 = (\"unigram, TF-IDF\", tfidf1_train, tfidf1_test)\n",
    "tfidf2 = (\"bigram, TF-IDF\",  tfidf2_train, tfidf2_test)\n",
    "tfidf3 = (\"trigram, TF-IDF\", tfidf3_train, tfidf3_test)\n",
    "DTMs = [binary1, binary2, binary3,\n",
    "        tf1, tf2, tf3,\n",
    "        tfidf1, tfidf2, tfidf3]\n",
    "\n",
    "df = pd.DataFrame({\"config\": [],\n",
    "                   \"accuracy\": []})\n",
    "best_config = [\"Best Configuration\", \"none\", 0, \"none\", \"none\"]\n",
    "for data in DTMs:\n",
    "    print(data[0])\n",
    "    print(\"\")\n",
    "    score = train_model(data[1], data[2])\n",
    "    print(\"======================================================\")\n",
    "    print(\"\")\n",
    "    if float(score) > float(best_config[2]):\n",
    "        best_config = [\"Best Configuration:\", data[0], score, data[1], data[2]]\n",
    "    df = df.append({\"config\": data[0],\n",
    "               \"accuracy\": float(score)},\n",
    "               ignore_index=True)"
   ]
  },
  {
   "cell_type": "code",
   "execution_count": 18,
   "metadata": {},
   "outputs": [
    {
     "data": {
      "text/html": [
       "<div>\n",
       "<style scoped>\n",
       "    .dataframe tbody tr th:only-of-type {\n",
       "        vertical-align: middle;\n",
       "    }\n",
       "\n",
       "    .dataframe tbody tr th {\n",
       "        vertical-align: top;\n",
       "    }\n",
       "\n",
       "    .dataframe thead th {\n",
       "        text-align: right;\n",
       "    }\n",
       "</style>\n",
       "<table border=\"1\" class=\"dataframe\">\n",
       "  <thead>\n",
       "    <tr style=\"text-align: right;\">\n",
       "      <th></th>\n",
       "      <th>config</th>\n",
       "      <th>accuracy</th>\n",
       "    </tr>\n",
       "  </thead>\n",
       "  <tbody>\n",
       "    <tr>\n",
       "      <td>0</td>\n",
       "      <td>unigram, binary</td>\n",
       "      <td>0.9880</td>\n",
       "    </tr>\n",
       "    <tr>\n",
       "      <td>1</td>\n",
       "      <td>bigram, binary</td>\n",
       "      <td>0.9819</td>\n",
       "    </tr>\n",
       "    <tr>\n",
       "      <td>2</td>\n",
       "      <td>trigram, binary</td>\n",
       "      <td>0.9819</td>\n",
       "    </tr>\n",
       "    <tr>\n",
       "      <td>3</td>\n",
       "      <td>unigram, TF</td>\n",
       "      <td>0.9819</td>\n",
       "    </tr>\n",
       "    <tr>\n",
       "      <td>4</td>\n",
       "      <td>bigram, TF</td>\n",
       "      <td>0.9759</td>\n",
       "    </tr>\n",
       "    <tr>\n",
       "      <td>5</td>\n",
       "      <td>trigram, TF</td>\n",
       "      <td>0.9819</td>\n",
       "    </tr>\n",
       "    <tr>\n",
       "      <td>6</td>\n",
       "      <td>unigram, TF-IDF</td>\n",
       "      <td>0.9819</td>\n",
       "    </tr>\n",
       "    <tr>\n",
       "      <td>7</td>\n",
       "      <td>bigram, TF-IDF</td>\n",
       "      <td>0.9819</td>\n",
       "    </tr>\n",
       "    <tr>\n",
       "      <td>8</td>\n",
       "      <td>trigram, TF-IDF</td>\n",
       "      <td>0.9819</td>\n",
       "    </tr>\n",
       "  </tbody>\n",
       "</table>\n",
       "</div>"
      ],
      "text/plain": [
       "            config  accuracy\n",
       "0  unigram, binary    0.9880\n",
       "1   bigram, binary    0.9819\n",
       "2  trigram, binary    0.9819\n",
       "3      unigram, TF    0.9819\n",
       "4       bigram, TF    0.9759\n",
       "5      trigram, TF    0.9819\n",
       "6  unigram, TF-IDF    0.9819\n",
       "7   bigram, TF-IDF    0.9819\n",
       "8  trigram, TF-IDF    0.9819"
      ]
     },
     "execution_count": 18,
     "metadata": {},
     "output_type": "execute_result"
    }
   ],
   "source": [
    "# Each model's result\n",
    "df"
   ]
  },
  {
   "cell_type": "code",
   "execution_count": 19,
   "metadata": {},
   "outputs": [
    {
     "data": {
      "image/png": "[encoded data removed]",
      "text/plain": [
       "<Figure size 432x288 with 1 Axes>"
      ]
     },
     "metadata": {
      "needs_background": "dark"
     },
     "output_type": "display_data"
    }
   ],
   "source": [
    "# Create plot\n",
    "plt.figure()\n",
    "\n",
    "# Create plot title\n",
    "plt.title(\"Accuracy of Models\")\n",
    "\n",
    "# Add bars\n",
    "plt.bar(range(df.shape[0]), df['accuracy'])\n",
    "plt.yticks([0,.2,.4,.6,.8,1]) \n",
    "plt.ylabel('Accuracy')\n",
    "\n",
    "# Add feature names as x-axis labels\n",
    "plt.xticks(range(df.shape[0]), df['config'], rotation=45)\n",
    "plt.xlabel('Model')\n",
    "\n",
    "# Show plot\n",
    "plt.show()"
   ]
  },
  {
   "cell_type": "code",
   "execution_count": 20,
   "metadata": {},
   "outputs": [
    {
     "name": "stdout",
     "output_type": "stream",
     "text": [
      "['Best Configuration:', 'unigram, binary', '0.9880', <386x3981 sparse matrix of type '<class 'numpy.int64'>'\n",
      "\twith 109389 stored elements in Compressed Sparse Row format>, <166x3981 sparse matrix of type '<class 'numpy.int64'>'\n",
      "\twith 45225 stored elements in Compressed Sparse Row format>]\n"
     ]
    }
   ],
   "source": [
    "# Best Configuration\n",
    "print(best_config)"
   ]
  },
  {
   "cell_type": "code",
   "execution_count": 21,
   "metadata": {},
   "outputs": [],
   "source": [
    "# Best Configuration\n",
    "clf.fit(best_config[3], y_train)\n",
    "\n",
    "# predictions on the test data\n",
    "preds = clf.predict(best_config[4])\n",
    "\n",
    "# feature importance\n",
    "importances = clf.feature_importances_\n",
    "\n",
    "# Sort feature importances in descending order\n",
    "indices = np.argsort(importances)[::-1]\n",
    "\n",
    "# Rearrange feature names so they match the sorted feature importances\n",
    "names = [vectorizer.get_feature_names()[i] for i in indices]"
   ]
  },
  {
   "cell_type": "code",
   "execution_count": 22,
   "metadata": {},
   "outputs": [
    {
     "data": {
      "text/plain": [
       "['cancel flight',\n",
       " 'canist tear ga',\n",
       " 'extradit ha',\n",
       " 'forefront',\n",
       " 'compani china',\n",
       " 'czech',\n",
       " 'hong kong border',\n",
       " 'date',\n",
       " 'foreign forc',\n",
       " 'capitul',\n",
       " 'bigger',\n",
       " 'includ independ',\n",
       " 'blast',\n",
       " 'fear beij',\n",
       " 'democrat republican',\n",
       " 'global time',\n",
       " 'blaze',\n",
       " 'involv',\n",
       " 'crowdsourc',\n",
       " 'expand',\n",
       " 'amid grow',\n",
       " 'death',\n",
       " 'crippl',\n",
       " 'earli',\n",
       " 'inflict',\n",
       " 'hong kong longer',\n",
       " 'graduat',\n",
       " 'doe mean',\n",
       " 'hong kong hundr',\n",
       " 'critic condit',\n",
       " 'leader wa',\n",
       " 'late month',\n",
       " 'argument',\n",
       " 'credit jillian',\n",
       " 'erod',\n",
       " 'freedom democraci',\n",
       " 'jeremi',\n",
       " 'english',\n",
       " 'interview',\n",
       " 'john hopkin',\n",
       " 'forc beij',\n",
       " 'broadcast',\n",
       " 'coerc',\n",
       " 'han',\n",
       " 'kong becaus',\n",
       " 'law order',\n",
       " 'ha clear',\n",
       " 'expos',\n",
       " 'corrupt',\n",
       " 'free elect']"
      ]
     },
     "execution_count": 22,
     "metadata": {},
     "output_type": "execute_result"
    }
   ],
   "source": [
    "# Main features\n",
    "names[0:50]"
   ]
  },
  {
   "cell_type": "code",
   "execution_count": 23,
   "metadata": {},
   "outputs": [
    {
     "data": {
      "image/png": "[encoded data removed]",
      "text/plain": [
       "<Figure size 432x288 with 1 Axes>"
      ]
     },
     "metadata": {
      "needs_background": "dark"
     },
     "output_type": "display_data"
    }
   ],
   "source": [
    "num_features = 20\n",
    "\n",
    "# Create plot\n",
    "plt.figure()\n",
    "\n",
    "# Create plot title\n",
    "plt.title(\"Feature Importance\")\n",
    "\n",
    "# Add bars\n",
    "plt.bar(range(num_features), importances[indices][0:num_features])\n",
    "\n",
    "# Add feature names as x-axis labels\n",
    "plt.xticks(range(num_features), names[0:num_features], rotation=90)\n",
    "\n",
    "# Show plot\n",
    "plt.show()"
   ]
  },
  {
   "cell_type": "code",
   "execution_count": null,
   "metadata": {},
   "outputs": [],
   "source": []
  }
 ],
 "metadata": {
  "kernelspec": {
   "display_name": "Python 3",
   "language": "python",
   "name": "python3"
  },
  "language_info": {
   "codemirror_mode": {
    "name": "ipython",
    "version": 3
   },
   "file_extension": ".py",
   "mimetype": "text/x-python",
   "name": "python",
   "nbconvert_exporter": "python",
   "pygments_lexer": "ipython3",
   "version": "3.7.4"
  }
 },
 "nbformat": 4,
 "nbformat_minor": 2
}
