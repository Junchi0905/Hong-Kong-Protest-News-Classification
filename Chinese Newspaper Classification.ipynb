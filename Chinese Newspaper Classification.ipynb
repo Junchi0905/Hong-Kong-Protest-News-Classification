{
 "cells": [
  {
   "cell_type": "code",
   "execution_count": 1,
   "metadata": {},
   "outputs": [],
   "source": [
    "# Import packages\n",
    "import numpy as np\n",
    "import pandas as pd\n",
    "import re\n",
    "import nltk\n",
    "from nltk.tokenize import word_tokenize\n",
    "from nltk.corpus import stopwords\n",
    "from nltk.stem import PorterStemmer\n",
    "from sklearn.model_selection import train_test_split\n",
    "from sklearn import preprocessing\n",
    "from sklearn.feature_extraction.text import CountVectorizer, TfidfVectorizer\n",
    "from sklearn.naive_bayes import MultinomialNB\n",
    "from xgboost import XGBClassifier\n",
    "from sklearn.metrics import accuracy_score, precision_score, f1_score, classification_report, confusion_matrix\n",
    "\n",
    "import matplotlib.pyplot as plt\n",
    "%run C:/Users/siebe/Documents/JT_Charts.ipynb\n",
    "\n",
    "ps = PorterStemmer()\n",
    "stopwords_english = set(stopwords.words('english'))"
   ]
  },
  {
   "cell_type": "code",
   "execution_count": 2,
   "metadata": {},
   "outputs": [
    {
     "data": {
      "text/html": [
       "<div>\n",
       "<style scoped>\n",
       "    .dataframe tbody tr th:only-of-type {\n",
       "        vertical-align: middle;\n",
       "    }\n",
       "\n",
       "    .dataframe tbody tr th {\n",
       "        vertical-align: top;\n",
       "    }\n",
       "\n",
       "    .dataframe thead th {\n",
       "        text-align: right;\n",
       "    }\n",
       "</style>\n",
       "<table border=\"1\" class=\"dataframe\">\n",
       "  <thead>\n",
       "    <tr style=\"text-align: right;\">\n",
       "      <th></th>\n",
       "      <th>text</th>\n",
       "      <th>newspaper</th>\n",
       "    </tr>\n",
       "  </thead>\n",
       "  <tbody>\n",
       "    <tr>\n",
       "      <td>0</td>\n",
       "      <td>Policeman hospitalized with leg burns; large g...</td>\n",
       "      <td>China Daily</td>\n",
       "    </tr>\n",
       "    <tr>\n",
       "      <td>1</td>\n",
       "      <td>It's a reflection of Bruce Lee's transcendent ...</td>\n",
       "      <td>China Daily</td>\n",
       "    </tr>\n",
       "    <tr>\n",
       "      <td>2</td>\n",
       "      <td>Experts say it's harder to lure overseas talen...</td>\n",
       "      <td>China Daily</td>\n",
       "    </tr>\n",
       "    <tr>\n",
       "      <td>3</td>\n",
       "      <td>There is a dreary dismal familiarity to me in ...</td>\n",
       "      <td>China Daily</td>\n",
       "    </tr>\n",
       "    <tr>\n",
       "      <td>4</td>\n",
       "      <td>Editor's Note: The US Congress has made the pa...</td>\n",
       "      <td>China Daily</td>\n",
       "    </tr>\n",
       "  </tbody>\n",
       "</table>\n",
       "</div>"
      ],
      "text/plain": [
       "                                                text    newspaper\n",
       "0  Policeman hospitalized with leg burns; large g...  China Daily\n",
       "1  It's a reflection of Bruce Lee's transcendent ...  China Daily\n",
       "2  Experts say it's harder to lure overseas talen...  China Daily\n",
       "3  There is a dreary dismal familiarity to me in ...  China Daily\n",
       "4  Editor's Note: The US Congress has made the pa...  China Daily"
      ]
     },
     "execution_count": 2,
     "metadata": {},
     "output_type": "execute_result"
    }
   ],
   "source": [
    "# Corpus\n",
    "## Chinese newspapers\n",
    "china_daily=pd.read_csv('China Daily.csv')\n",
    "people_daily=pd.read_csv('People\\'s Daily.csv')\n",
    "xinhua_agent=pd.read_csv('Xinhua Agent.csv')\n",
    "\n",
    "def corpus_create(news, val):\n",
    "    news = news.drop(['title'], axis=1)\n",
    "    news = news.dropna(how='all')\n",
    "    news['newspaper'] = val\n",
    "    return news\n",
    "\n",
    "china_daily = corpus_create(china_daily, 'China Daily')\n",
    "people_daily = corpus_create(people_daily, 'People\\'s Daily')\n",
    "xinhua_agent = corpus_create(xinhua_agent, 'Xinhua Agent')\n",
    "\n",
    "corpus=pd.concat([china_daily, people_daily, xinhua_agent],axis=0,ignore_index=True)\n",
    "\n",
    "corpus.head()"
   ]
  },
  {
   "cell_type": "code",
   "execution_count": 3,
   "metadata": {},
   "outputs": [
    {
     "data": {
      "text/plain": [
       "Xinhua Agent      235\n",
       "China Daily       167\n",
       "People's Daily    147\n",
       "Name: newspaper, dtype: int64"
      ]
     },
     "execution_count": 3,
     "metadata": {},
     "output_type": "execute_result"
    }
   ],
   "source": [
    "# Balance\n",
    "corpus['newspaper'].value_counts()"
   ]
  },
  {
   "cell_type": "code",
   "execution_count": 4,
   "metadata": {},
   "outputs": [
    {
     "data": {
      "text/html": [
       "<div>\n",
       "<style scoped>\n",
       "    .dataframe tbody tr th:only-of-type {\n",
       "        vertical-align: middle;\n",
       "    }\n",
       "\n",
       "    .dataframe tbody tr th {\n",
       "        vertical-align: top;\n",
       "    }\n",
       "\n",
       "    .dataframe thead th {\n",
       "        text-align: right;\n",
       "    }\n",
       "</style>\n",
       "<table border=\"1\" class=\"dataframe\">\n",
       "  <thead>\n",
       "    <tr style=\"text-align: right;\">\n",
       "      <th></th>\n",
       "      <th>text</th>\n",
       "      <th>newspaper</th>\n",
       "    </tr>\n",
       "  </thead>\n",
       "  <tbody>\n",
       "    <tr>\n",
       "      <td>0</td>\n",
       "      <td>['policeman hospit with leg burn larg group of...</td>\n",
       "      <td>China Daily</td>\n",
       "    </tr>\n",
       "    <tr>\n",
       "      <td>1</td>\n",
       "      <td>['it a reflect of bruce lee transcend appeal t...</td>\n",
       "      <td>China Daily</td>\n",
       "    </tr>\n",
       "    <tr>\n",
       "      <td>2</td>\n",
       "      <td>['expert say it harder to lure oversea talent ...</td>\n",
       "      <td>China Daily</td>\n",
       "    </tr>\n",
       "    <tr>\n",
       "      <td>3</td>\n",
       "      <td>['there is a dreari dismal familiar to me in w...</td>\n",
       "      <td>China Daily</td>\n",
       "    </tr>\n",
       "    <tr>\n",
       "      <td>4</td>\n",
       "      <td>['editor note the us congress ha made the pass...</td>\n",
       "      <td>China Daily</td>\n",
       "    </tr>\n",
       "  </tbody>\n",
       "</table>\n",
       "</div>"
      ],
      "text/plain": [
       "                                                text    newspaper\n",
       "0  ['policeman hospit with leg burn larg group of...  China Daily\n",
       "1  ['it a reflect of bruce lee transcend appeal t...  China Daily\n",
       "2  ['expert say it harder to lure oversea talent ...  China Daily\n",
       "3  ['there is a dreari dismal familiar to me in w...  China Daily\n",
       "4  ['editor note the us congress ha made the pass...  China Daily"
      ]
     },
     "execution_count": 4,
     "metadata": {},
     "output_type": "execute_result"
    }
   ],
   "source": [
    "keywords = [\"\\'s\", \"china daily\", \"people daily\", \"xinhua\", \n",
    "            \"wall street journal\", \"new york times\", \"washington post\",\n",
    "           \"editorial\", \"commentary\"]\n",
    "\n",
    "# Case removal, non-alpha removal, keyword removal, and stemming\n",
    "corpus['text'] = corpus['text'].str.split()\n",
    "corpus['text'] = corpus['text'].apply(lambda x: [re.sub(r'[^a-zA-Z]', \"\",y.lower()) for y in x])\n",
    "corpus['text'] = corpus['text'].apply(lambda x: [y for y in x if y not in keywords])\n",
    "corpus['text'] = corpus['text'].apply(lambda x: [ps.stem(y) for y in x])\n",
    "corpus['text'] = corpus['text'].apply(lambda x: [' '.join(x)])\n",
    "corpus['text'] = pd.Series(corpus['text']).astype(str)\n",
    "corpus.head()"
   ]
  },
  {
   "cell_type": "code",
   "execution_count": 5,
   "metadata": {},
   "outputs": [
    {
     "name": "stdout",
     "output_type": "stream",
     "text": [
      "517    ['peopl attend a flagrais ceremoni at the wong...\n",
      "193    ['baku aug   the ongo violenc in hong kong cou...\n",
      "28     ['the govern of the hong kong special administ...\n",
      "108    ['some  resid in the hong kong special adminis...\n",
      "249    ['wong kamleung right chairman of the hong kon...\n",
      "Name: text, dtype: object\n"
     ]
    }
   ],
   "source": [
    "# Split data\n",
    "\n",
    "# Separate features and target\n",
    "corpus_text = corpus.iloc[:,0]\n",
    "corpus_classes = corpus.iloc[:,1]\n",
    "\n",
    "# split the dataset into training and validation datasets \n",
    "x_train, x_test, y_train, y_test = train_test_split(corpus_text, corpus_classes, \n",
    "                                                    test_size=0.3, stratify=corpus_classes)\n",
    "print(x_train.head())"
   ]
  },
  {
   "cell_type": "code",
   "execution_count": 6,
   "metadata": {},
   "outputs": [],
   "source": [
    "# label encode the target variable \n",
    "labels = preprocessing.LabelEncoder()\n",
    "y_train = labels.fit_transform(y_train)\n",
    "y_test = labels.fit_transform(y_test)\n",
    "labels.classes_"
   ]
  },
  {
   "cell_type": "markdown",
   "metadata": {},
   "source": [
    "# Create document term matrices\n",
    "### Create binary DTM in which words present in doc receive value of one\n",
    "### Create term frequency DTM to emphasize most commonly used words\n",
    "### Create TF-IDF DTM to emphasize words most specific to each document"
   ]
  },
  {
   "cell_type": "code",
   "execution_count": 7,
   "metadata": {},
   "outputs": [
    {
     "name": "stdout",
     "output_type": "stream",
     "text": [
      "Count of terms 2411\n",
      "[[0 0 0 ... 0 0 0]\n",
      " [0 0 0 ... 0 0 0]\n",
      " [0 0 0 ... 0 0 0]\n",
      " ...\n",
      " [0 0 0 ... 0 0 0]\n",
      " [0 0 0 ... 0 0 0]\n",
      " [0 0 0 ... 0 0 0]]\n"
     ]
    }
   ],
   "source": [
    "# Create Unigram, Binary DTM\n",
    "vectorizer = CountVectorizer(stop_words='english', min_df=int(5), max_df=0.9, ngram_range=(1, 1), binary=True) \n",
    "vectorizer.fit(x_train)\n",
    "binary1_train = vectorizer.transform(x_train)\n",
    "binary1_test = vectorizer.transform(x_test)\n",
    "\n",
    "print(\"Count of terms\", len(vectorizer.get_feature_names()))\n",
    "print(binary1_train.toarray()) "
   ]
  },
  {
   "cell_type": "code",
   "execution_count": 8,
   "metadata": {},
   "outputs": [
    {
     "name": "stdout",
     "output_type": "stream",
     "text": [
      "Count of terms 4677\n",
      "[[0 0 0 ... 0 0 0]\n",
      " [0 0 0 ... 0 0 0]\n",
      " [0 0 0 ... 0 0 0]\n",
      " ...\n",
      " [0 0 0 ... 0 0 0]\n",
      " [0 0 0 ... 0 0 0]\n",
      " [0 0 0 ... 0 0 0]]\n"
     ]
    }
   ],
   "source": [
    "# Create Bigram, Binary DTM\n",
    "vectorizer = CountVectorizer(stop_words='english', min_df=int(5), max_df=0.9, ngram_range=(1, 2), binary=True) \n",
    "vectorizer.fit(x_train)\n",
    "binary2_train = vectorizer.transform(x_train)\n",
    "binary2_test = vectorizer.transform(x_test)\n",
    "\n",
    "print(\"Count of terms\", len(vectorizer.get_feature_names()))\n",
    "print(binary2_train.toarray()) "
   ]
  },
  {
   "cell_type": "code",
   "execution_count": 9,
   "metadata": {},
   "outputs": [
    {
     "name": "stdout",
     "output_type": "stream",
     "text": [
      "Count of terms 5740\n",
      "[[0 0 0 ... 0 0 0]\n",
      " [0 0 0 ... 0 0 0]\n",
      " [0 0 0 ... 0 0 0]\n",
      " ...\n",
      " [0 0 0 ... 0 0 0]\n",
      " [0 0 0 ... 0 0 0]\n",
      " [0 0 0 ... 0 0 0]]\n"
     ]
    }
   ],
   "source": [
    "# Create Trigram, Binary DTM\n",
    "vectorizer = CountVectorizer(stop_words='english', min_df=int(5), max_df=0.9, ngram_range=(1, 3), binary=True) \n",
    "vectorizer.fit(x_train)\n",
    "binary3_train = vectorizer.transform(x_train)\n",
    "binary3_test = vectorizer.transform(x_test)\n",
    "\n",
    "print(\"Count of terms\", len(vectorizer.get_feature_names()))\n",
    "print(binary3_train.toarray()) "
   ]
  },
  {
   "cell_type": "code",
   "execution_count": 10,
   "metadata": {},
   "outputs": [
    {
     "name": "stdout",
     "output_type": "stream",
     "text": [
      "Count of terms 2411\n",
      "[[0 0 0 ... 0 0 0]\n",
      " [0 0 0 ... 0 0 0]\n",
      " [0 0 0 ... 0 0 0]\n",
      " ...\n",
      " [0 0 0 ... 0 0 0]\n",
      " [0 0 0 ... 0 0 0]\n",
      " [0 0 0 ... 0 0 0]]\n"
     ]
    }
   ],
   "source": [
    "# Create Unigram, Term Frequency DTM\n",
    "vectorizer = CountVectorizer(stop_words='english', min_df=int(5), max_df=0.9, ngram_range=(1, 1)) \n",
    "vectorizer.fit(x_train)\n",
    "tf1_train = vectorizer.transform(x_train)\n",
    "tf1_test = vectorizer.transform(x_test)\n",
    "\n",
    "print(\"Count of terms\", len(vectorizer.get_feature_names()))\n",
    "print(tf1_train.toarray()) "
   ]
  },
  {
   "cell_type": "code",
   "execution_count": 11,
   "metadata": {},
   "outputs": [
    {
     "name": "stdout",
     "output_type": "stream",
     "text": [
      "Count of terms 4677\n",
      "[[0 0 0 ... 0 0 0]\n",
      " [0 0 0 ... 0 0 0]\n",
      " [0 0 0 ... 0 0 0]\n",
      " ...\n",
      " [0 0 0 ... 0 0 0]\n",
      " [0 0 0 ... 0 0 0]\n",
      " [0 0 0 ... 0 0 0]]\n"
     ]
    }
   ],
   "source": [
    "# Create Bigram, Term Frequency DTM\n",
    "vectorizer = CountVectorizer(stop_words='english', min_df=int(5), max_df=0.9, ngram_range=(1, 2)) \n",
    "vectorizer.fit(x_train)\n",
    "tf2_train = vectorizer.transform(x_train)\n",
    "tf2_test = vectorizer.transform(x_test)\n",
    "\n",
    "print(\"Count of terms\", len(vectorizer.get_feature_names()))\n",
    "print(tf2_train.toarray()) "
   ]
  },
  {
   "cell_type": "code",
   "execution_count": 12,
   "metadata": {},
   "outputs": [
    {
     "name": "stdout",
     "output_type": "stream",
     "text": [
      "Count of terms 5740\n",
      "[[0 0 0 ... 0 0 0]\n",
      " [0 0 0 ... 0 0 0]\n",
      " [0 0 0 ... 0 0 0]\n",
      " ...\n",
      " [0 0 0 ... 0 0 0]\n",
      " [0 0 0 ... 0 0 0]\n",
      " [0 0 0 ... 0 0 0]]\n"
     ]
    }
   ],
   "source": [
    "# Create Trigram, Term Frequency DTM\n",
    "vectorizer = CountVectorizer(stop_words='english', min_df=int(5), max_df=0.9, ngram_range=(1, 3)) \n",
    "vectorizer.fit(x_train)\n",
    "tf3_train = vectorizer.transform(x_train)\n",
    "tf3_test = vectorizer.transform(x_test)\n",
    "\n",
    "print(\"Count of terms\", len(vectorizer.get_feature_names()))\n",
    "print(tf3_train.toarray()) "
   ]
  },
  {
   "cell_type": "code",
   "execution_count": 13,
   "metadata": {},
   "outputs": [
    {
     "name": "stdout",
     "output_type": "stream",
     "text": [
      "Count of terms 2411\n",
      "[[0. 0. 0. ... 0. 0. 0.]\n",
      " [0. 0. 0. ... 0. 0. 0.]\n",
      " [0. 0. 0. ... 0. 0. 0.]\n",
      " ...\n",
      " [0. 0. 0. ... 0. 0. 0.]\n",
      " [0. 0. 0. ... 0. 0. 0.]\n",
      " [0. 0. 0. ... 0. 0. 0.]]\n"
     ]
    }
   ],
   "source": [
    "# Create Unigram, TF-IDF DTM\n",
    "vectorizer = TfidfVectorizer(stop_words='english', min_df=int(5), max_df=0.9, ngram_range=(1, 1))\n",
    "vectorizer.fit(x_train)\n",
    "tfidf1_train = vectorizer.transform(x_train)\n",
    "tfidf1_test = vectorizer.transform(x_test)\n",
    "\n",
    "print(\"Count of terms\", len(vectorizer.get_feature_names()))\n",
    "print(tfidf1_train.toarray()) "
   ]
  },
  {
   "cell_type": "code",
   "execution_count": 14,
   "metadata": {},
   "outputs": [
    {
     "name": "stdout",
     "output_type": "stream",
     "text": [
      "Count of terms 4677\n",
      "[[0. 0. 0. ... 0. 0. 0.]\n",
      " [0. 0. 0. ... 0. 0. 0.]\n",
      " [0. 0. 0. ... 0. 0. 0.]\n",
      " ...\n",
      " [0. 0. 0. ... 0. 0. 0.]\n",
      " [0. 0. 0. ... 0. 0. 0.]\n",
      " [0. 0. 0. ... 0. 0. 0.]]\n"
     ]
    }
   ],
   "source": [
    "# Create Bigram, TF-IDF DTM\n",
    "vectorizer = TfidfVectorizer(stop_words='english', min_df=int(5), max_df=0.9, ngram_range=(1, 2))\n",
    "vectorizer.fit(x_train)\n",
    "tfidf2_train = vectorizer.transform(x_train)\n",
    "tfidf2_test = vectorizer.transform(x_test)\n",
    "\n",
    "print(\"Count of terms\", len(vectorizer.get_feature_names()))\n",
    "print(tfidf2_train.toarray()) "
   ]
  },
  {
   "cell_type": "code",
   "execution_count": 15,
   "metadata": {},
   "outputs": [
    {
     "name": "stdout",
     "output_type": "stream",
     "text": [
      "Count of terms 5740\n",
      "[[0. 0. 0. ... 0. 0. 0.]\n",
      " [0. 0. 0. ... 0. 0. 0.]\n",
      " [0. 0. 0. ... 0. 0. 0.]\n",
      " ...\n",
      " [0. 0. 0. ... 0. 0. 0.]\n",
      " [0. 0. 0. ... 0. 0. 0.]\n",
      " [0. 0. 0. ... 0. 0. 0.]]\n"
     ]
    }
   ],
   "source": [
    "# Create Trigram, TF-IDF DTM\n",
    "vectorizer = TfidfVectorizer(stop_words='english', min_df=int(5), max_df=0.9, ngram_range=(1, 3))\n",
    "vectorizer.fit(x_train)\n",
    "tfidf3_train = vectorizer.transform(x_train)\n",
    "tfidf3_test = vectorizer.transform(x_test)\n",
    "\n",
    "print(\"Count of terms\", len(vectorizer.get_feature_names()))\n",
    "print(tfidf3_train.toarray())"
   ]
  },
  {
   "cell_type": "markdown",
   "metadata": {},
   "source": [
    "# Model nine configurations in a loop"
   ]
  },
  {
   "cell_type": "code",
   "execution_count": 16,
   "metadata": {},
   "outputs": [],
   "source": [
    "# Define model training\n",
    "def train_model(dtm, test):\n",
    "    # model the training data\n",
    "    clf.fit(dtm, y_train)\n",
    "    \n",
    "    # predictions on the test data\n",
    "    preds = clf.predict(test)\n",
    "    \n",
    "    # print metrics\n",
    "    print(\"Accuracy:\", '{:1.4f}'.format(accuracy_score(y_test, preds)))\n",
    "    print(\"\")\n",
    "    print(classification_report(y_test, preds))\n",
    "    print(\"Confusion Matrix:\")\n",
    "    print(confusion_matrix(y_test, preds))\n",
    "    \n",
    "    return '{:1.4f}'.format(accuracy_score(y_test, preds))"
   ]
  },
  {
   "cell_type": "code",
   "execution_count": 17,
   "metadata": {},
   "outputs": [
    {
     "name": "stdout",
     "output_type": "stream",
     "text": [
      "unigram, binary\n",
      "\n",
      "Accuracy: 0.7152\n",
      "\n",
      "              precision    recall  f1-score   support\n",
      "\n",
      "           0       0.91      0.84      0.87        50\n",
      "           1       0.51      0.48      0.49        44\n",
      "           2       0.71      0.77      0.74        71\n",
      "\n",
      "    accuracy                           0.72       165\n",
      "   macro avg       0.71      0.70      0.70       165\n",
      "weighted avg       0.72      0.72      0.71       165\n",
      "\n",
      "Confusion Matrix:\n",
      "[[42  5  3]\n",
      " [ 3 21 20]\n",
      " [ 1 15 55]]\n",
      "======================================================\n",
      "\n",
      "bigram, binary\n",
      "\n",
      "Accuracy: 0.7152\n",
      "\n",
      "              precision    recall  f1-score   support\n",
      "\n",
      "           0       0.91      0.86      0.89        50\n",
      "           1       0.51      0.43      0.47        44\n",
      "           2       0.69      0.79      0.74        71\n",
      "\n",
      "    accuracy                           0.72       165\n",
      "   macro avg       0.71      0.69      0.70       165\n",
      "weighted avg       0.71      0.72      0.71       165\n",
      "\n",
      "Confusion Matrix:\n",
      "[[43  4  3]\n",
      " [ 3 19 22]\n",
      " [ 1 14 56]]\n",
      "======================================================\n",
      "\n",
      "trigram, binary\n",
      "\n",
      "Accuracy: 0.7091\n",
      "\n",
      "              precision    recall  f1-score   support\n",
      "\n",
      "           0       0.91      0.86      0.89        50\n",
      "           1       0.47      0.43      0.45        44\n",
      "           2       0.71      0.77      0.74        71\n",
      "\n",
      "    accuracy                           0.71       165\n",
      "   macro avg       0.70      0.69      0.69       165\n",
      "weighted avg       0.71      0.71      0.71       165\n",
      "\n",
      "Confusion Matrix:\n",
      "[[43  6  1]\n",
      " [ 3 19 22]\n",
      " [ 1 15 55]]\n",
      "======================================================\n",
      "\n",
      "unigram, TF\n",
      "\n",
      "Accuracy: 0.6848\n",
      "\n",
      "              precision    recall  f1-score   support\n",
      "\n",
      "           0       0.91      0.80      0.85        50\n",
      "           1       0.45      0.43      0.44        44\n",
      "           2       0.68      0.76      0.72        71\n",
      "\n",
      "    accuracy                           0.68       165\n",
      "   macro avg       0.68      0.66      0.67       165\n",
      "weighted avg       0.69      0.68      0.69       165\n",
      "\n",
      "Confusion Matrix:\n",
      "[[40  7  3]\n",
      " [ 3 19 22]\n",
      " [ 1 16 54]]\n",
      "======================================================\n",
      "\n",
      "bigram, TF\n",
      "\n",
      "Accuracy: 0.6970\n",
      "\n",
      "              precision    recall  f1-score   support\n",
      "\n",
      "           0       0.93      0.82      0.87        50\n",
      "           1       0.44      0.41      0.42        44\n",
      "           2       0.70      0.79      0.74        71\n",
      "\n",
      "    accuracy                           0.70       165\n",
      "   macro avg       0.69      0.67      0.68       165\n",
      "weighted avg       0.70      0.70      0.70       165\n",
      "\n",
      "Confusion Matrix:\n",
      "[[41  8  1]\n",
      " [ 3 18 23]\n",
      " [ 0 15 56]]\n",
      "======================================================\n",
      "\n",
      "trigram, TF\n",
      "\n",
      "Accuracy: 0.7212\n",
      "\n",
      "              precision    recall  f1-score   support\n",
      "\n",
      "           0       0.95      0.82      0.88        50\n",
      "           1       0.49      0.48      0.48        44\n",
      "           2       0.72      0.80      0.76        71\n",
      "\n",
      "    accuracy                           0.72       165\n",
      "   macro avg       0.72      0.70      0.71       165\n",
      "weighted avg       0.73      0.72      0.72       165\n",
      "\n",
      "Confusion Matrix:\n",
      "[[41  8  1]\n",
      " [ 2 21 21]\n",
      " [ 0 14 57]]\n",
      "======================================================\n",
      "\n",
      "unigram, TF-IDF\n",
      "\n",
      "Accuracy: 0.6788\n",
      "\n",
      "              precision    recall  f1-score   support\n",
      "\n",
      "           0       1.00      0.78      0.88        50\n",
      "           1       0.46      0.50      0.48        44\n",
      "           2       0.65      0.72      0.68        71\n",
      "\n",
      "    accuracy                           0.68       165\n",
      "   macro avg       0.70      0.67      0.68       165\n",
      "weighted avg       0.71      0.68      0.69       165\n",
      "\n",
      "Confusion Matrix:\n",
      "[[39  6  5]\n",
      " [ 0 22 22]\n",
      " [ 0 20 51]]\n",
      "======================================================\n",
      "\n",
      "bigram, TF-IDF\n",
      "\n",
      "Accuracy: 0.7152\n",
      "\n",
      "              precision    recall  f1-score   support\n",
      "\n",
      "           0       0.95      0.84      0.89        50\n",
      "           1       0.51      0.45      0.48        44\n",
      "           2       0.68      0.79      0.73        71\n",
      "\n",
      "    accuracy                           0.72       165\n",
      "   macro avg       0.72      0.69      0.70       165\n",
      "weighted avg       0.72      0.72      0.71       165\n",
      "\n",
      "Confusion Matrix:\n",
      "[[42  5  3]\n",
      " [ 1 20 23]\n",
      " [ 1 14 56]]\n",
      "======================================================\n",
      "\n",
      "trigram, TF-IDF\n",
      "\n",
      "Accuracy: 0.6970\n",
      "\n",
      "              precision    recall  f1-score   support\n",
      "\n",
      "           0       0.93      0.82      0.87        50\n",
      "           1       0.47      0.45      0.46        44\n",
      "           2       0.69      0.76      0.72        71\n",
      "\n",
      "    accuracy                           0.70       165\n",
      "   macro avg       0.70      0.68      0.69       165\n",
      "weighted avg       0.70      0.70      0.70       165\n",
      "\n",
      "Confusion Matrix:\n",
      "[[41  7  2]\n",
      " [ 2 20 22]\n",
      " [ 1 16 54]]\n",
      "======================================================\n",
      "\n"
     ]
    }
   ],
   "source": [
    "# Use Naive Bayes\n",
    "clf = XGBClassifier() #MultinomialNB()\n",
    "\n",
    "# Model Configurations\n",
    "binary1 = (\"unigram, binary\", binary1_train, binary1_test)\n",
    "binary2 = (\"bigram, binary\",  binary2_train, binary2_test)\n",
    "binary3 = (\"trigram, binary\", binary3_train, binary3_test)\n",
    "tf1 = (\"unigram, TF\", tf1_train, tf1_test)\n",
    "tf2 = (\"bigram, TF\",  tf2_train, tf2_test)\n",
    "tf3 = (\"trigram, TF\", tf3_train, tf3_test)\n",
    "tfidf1 = (\"unigram, TF-IDF\", tfidf1_train, tfidf1_test)\n",
    "tfidf2 = (\"bigram, TF-IDF\",  tfidf2_train, tfidf2_test)\n",
    "tfidf3 = (\"trigram, TF-IDF\", tfidf3_train, tfidf3_test)\n",
    "DTMs = [binary1, binary2, binary3,\n",
    "        tf1, tf2, tf3,\n",
    "        tfidf1, tfidf2, tfidf3]\n",
    "\n",
    "df = pd.DataFrame({\"config\": [],\n",
    "                   \"accuracy\": []})\n",
    "best_config = [\"Best Configuration\", \"none\", 0, \"none\", \"none\"]\n",
    "for data in DTMs:\n",
    "    print(data[0])\n",
    "    print(\"\")\n",
    "    score = train_model(data[1], data[2])\n",
    "    print(\"======================================================\")\n",
    "    print(\"\")\n",
    "    if float(score) > float(best_config[2]):\n",
    "        best_config = [\"Best Configuration:\", data[0], score, data[1], data[2]]\n",
    "    df = df.append({\"config\": data[0],\n",
    "               \"accuracy\": float(score)},\n",
    "               ignore_index=True)"
   ]
  },
  {
   "cell_type": "code",
   "execution_count": 18,
   "metadata": {},
   "outputs": [
    {
     "data": {
      "text/html": [
       "<div>\n",
       "<style scoped>\n",
       "    .dataframe tbody tr th:only-of-type {\n",
       "        vertical-align: middle;\n",
       "    }\n",
       "\n",
       "    .dataframe tbody tr th {\n",
       "        vertical-align: top;\n",
       "    }\n",
       "\n",
       "    .dataframe thead th {\n",
       "        text-align: right;\n",
       "    }\n",
       "</style>\n",
       "<table border=\"1\" class=\"dataframe\">\n",
       "  <thead>\n",
       "    <tr style=\"text-align: right;\">\n",
       "      <th></th>\n",
       "      <th>config</th>\n",
       "      <th>accuracy</th>\n",
       "    </tr>\n",
       "  </thead>\n",
       "  <tbody>\n",
       "    <tr>\n",
       "      <td>0</td>\n",
       "      <td>unigram, binary</td>\n",
       "      <td>0.7152</td>\n",
       "    </tr>\n",
       "    <tr>\n",
       "      <td>1</td>\n",
       "      <td>bigram, binary</td>\n",
       "      <td>0.7152</td>\n",
       "    </tr>\n",
       "    <tr>\n",
       "      <td>2</td>\n",
       "      <td>trigram, binary</td>\n",
       "      <td>0.7091</td>\n",
       "    </tr>\n",
       "    <tr>\n",
       "      <td>3</td>\n",
       "      <td>unigram, TF</td>\n",
       "      <td>0.6848</td>\n",
       "    </tr>\n",
       "    <tr>\n",
       "      <td>4</td>\n",
       "      <td>bigram, TF</td>\n",
       "      <td>0.6970</td>\n",
       "    </tr>\n",
       "    <tr>\n",
       "      <td>5</td>\n",
       "      <td>trigram, TF</td>\n",
       "      <td>0.7212</td>\n",
       "    </tr>\n",
       "    <tr>\n",
       "      <td>6</td>\n",
       "      <td>unigram, TF-IDF</td>\n",
       "      <td>0.6788</td>\n",
       "    </tr>\n",
       "    <tr>\n",
       "      <td>7</td>\n",
       "      <td>bigram, TF-IDF</td>\n",
       "      <td>0.7152</td>\n",
       "    </tr>\n",
       "    <tr>\n",
       "      <td>8</td>\n",
       "      <td>trigram, TF-IDF</td>\n",
       "      <td>0.6970</td>\n",
       "    </tr>\n",
       "  </tbody>\n",
       "</table>\n",
       "</div>"
      ],
      "text/plain": [
       "            config  accuracy\n",
       "0  unigram, binary    0.7152\n",
       "1   bigram, binary    0.7152\n",
       "2  trigram, binary    0.7091\n",
       "3      unigram, TF    0.6848\n",
       "4       bigram, TF    0.6970\n",
       "5      trigram, TF    0.7212\n",
       "6  unigram, TF-IDF    0.6788\n",
       "7   bigram, TF-IDF    0.7152\n",
       "8  trigram, TF-IDF    0.6970"
      ]
     },
     "execution_count": 18,
     "metadata": {},
     "output_type": "execute_result"
    }
   ],
   "source": [
    "# Each model's result\n",
    "df"
   ]
  },
  {
   "cell_type": "code",
   "execution_count": 37,
   "metadata": {},
   "outputs": [
    {
     "data": {
      "image/png": "[encoded data removed]",
      "text/plain": [
       "<Figure size 432x288 with 1 Axes>"
      ]
     },
     "metadata": {
      "needs_background": "dark"
     },
     "output_type": "display_data"
    }
   ],
   "source": [
    "# Create plot\n",
    "plt.figure()\n",
    "\n",
    "# Create plot title\n",
    "plt.title(\"Accuracy of Models\")\n",
    "\n",
    "# Add bars\n",
    "plt.bar(range(df.shape[0]), df['accuracy'])\n",
    "plt.yticks([0,.2,.4,.6,.8,1]) \n",
    "plt.ylabel('Accuracy')\n",
    "\n",
    "# Add feature names as x-axis labels\n",
    "plt.xticks(range(df.shape[0]), df['config'], rotation=45)\n",
    "plt.xlabel('Model')\n",
    "\n",
    "# Show plot\n",
    "plt.show()"
   ]
  },
  {
   "cell_type": "code",
   "execution_count": 20,
   "metadata": {},
   "outputs": [
    {
     "name": "stdout",
     "output_type": "stream",
     "text": [
      "['Best Configuration:', 'trigram, TF', '0.7212', <384x5740 sparse matrix of type '<class 'numpy.int64'>'\n",
      "\twith 96748 stored elements in Compressed Sparse Row format>, <165x5740 sparse matrix of type '<class 'numpy.int64'>'\n",
      "\twith 35587 stored elements in Compressed Sparse Row format>]\n"
     ]
    }
   ],
   "source": [
    "# Best Configuration\n",
    "print(best_config)"
   ]
  },
  {
   "cell_type": "code",
   "execution_count": 21,
   "metadata": {},
   "outputs": [],
   "source": [
    "# Best Configuration\n",
    "clf.fit(best_config[3], y_train)\n",
    "\n",
    "# predictions on the test data\n",
    "preds = clf.predict(best_config[4])\n",
    "\n",
    "# feature importance\n",
    "importances = clf.feature_importances_\n",
    "\n",
    "# Sort feature importances in descending order\n",
    "indices = np.argsort(importances)[::-1]\n",
    "\n",
    "# Rearrange feature names so they match the sorted feature importances\n",
    "names = [vectorizer.get_feature_names()[i] for i in indices]"
   ]
  },
  {
   "cell_type": "code",
   "execution_count": 22,
   "metadata": {},
   "outputs": [
    {
     "data": {
      "text/plain": [
       "['credit',\n",
       " 'china daili',\n",
       " 'special',\n",
       " 'sept',\n",
       " 'sar',\n",
       " 'restor',\n",
       " 'extradit',\n",
       " 'foreign polici',\n",
       " 'law amend',\n",
       " 'railway mtr',\n",
       " 'aug',\n",
       " 'citi',\n",
       " 'despit',\n",
       " 'administr region hksar',\n",
       " 'ensur',\n",
       " 'minist',\n",
       " 'problem hong',\n",
       " 'howev',\n",
       " 'committe',\n",
       " 'demonstr hong',\n",
       " 'life hong',\n",
       " 'photo',\n",
       " 'effect',\n",
       " 'carri lam cheng',\n",
       " 'resid',\n",
       " 'li',\n",
       " 'attack',\n",
       " 'administr',\n",
       " 'thi',\n",
       " 'offici',\n",
       " 'provid',\n",
       " 'posit',\n",
       " 'govern depart',\n",
       " 'carri lam',\n",
       " 'longer',\n",
       " 'polic said',\n",
       " 'local time',\n",
       " 'administr region sar',\n",
       " 'shame',\n",
       " 'violenc restor',\n",
       " 'china',\n",
       " 'difficult',\n",
       " 'said',\n",
       " 'emblem',\n",
       " 'hong kong sept',\n",
       " 'south china',\n",
       " 'china hong',\n",
       " 'cite',\n",
       " 'result',\n",
       " 'latest']"
      ]
     },
     "execution_count": 22,
     "metadata": {},
     "output_type": "execute_result"
    }
   ],
   "source": [
    "# Main features\n",
    "names[0:50]"
   ]
  },
  {
   "cell_type": "code",
   "execution_count": 39,
   "metadata": {},
   "outputs": [
    {
     "data": {
      "image/png": "[encoded data removed]",
      "text/plain": [
       "<Figure size 432x288 with 1 Axes>"
      ]
     },
     "metadata": {
      "needs_background": "dark"
     },
     "output_type": "display_data"
    }
   ],
   "source": [
    "num_features = 20\n",
    "\n",
    "# Create plot\n",
    "plt.figure()\n",
    "\n",
    "# Create plot title\n",
    "plt.title(\"Feature Importance\")\n",
    "\n",
    "# Add bars\n",
    "plt.bar(range(num_features), importances[indices][0:num_features])\n",
    "\n",
    "# Add feature names as x-axis labels\n",
    "plt.xticks(range(num_features), names[0:num_features], rotation=90)\n",
    "\n",
    "# Show plot\n",
    "plt.show()"
   ]
  },
  {
   "cell_type": "code",
   "execution_count": null,
   "metadata": {},
   "outputs": [],
   "source": []
  }
 ],
 "metadata": {
  "kernelspec": {
   "display_name": "Python 3",
   "language": "python",
   "name": "python3"
  },
  "language_info": {
   "codemirror_mode": {
    "name": "ipython",
    "version": 3
   },
   "file_extension": ".py",
   "mimetype": "text/x-python",
   "name": "python",
   "nbconvert_exporter": "python",
   "pygments_lexer": "ipython3",
   "version": "3.7.4"
  }
 },
 "nbformat": 4,
 "nbformat_minor": 2
}
