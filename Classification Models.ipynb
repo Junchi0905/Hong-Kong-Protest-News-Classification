{
 "cells": [
  {
   "cell_type": "code",
   "execution_count": 1,
   "metadata": {},
   "outputs": [],
   "source": [
    "# Import packages\n",
    "import numpy as np\n",
    "import pandas as pd\n",
    "import re\n",
    "import nltk\n",
    "from nltk.tokenize import word_tokenize\n",
    "from nltk.corpus import stopwords\n",
    "from nltk.stem import PorterStemmer\n",
    "from sklearn.model_selection import train_test_split\n",
    "from sklearn import preprocessing\n",
    "from sklearn.feature_extraction.text import CountVectorizer, TfidfVectorizer\n",
    "from sklearn.naive_bayes import MultinomialNB\n",
    "from xgboost import XGBClassifier\n",
    "from sklearn.metrics import accuracy_score, precision_score, f1_score, classification_report, confusion_matrix\n",
    "\n",
    "import matplotlib.pyplot as plt\n",
    "%run C:/Users/siebe/Documents/JT_Charts.ipynb\n",
    "\n",
    "ps = PorterStemmer()\n",
    "stopwords_english = set(stopwords.words('english'))"
   ]
  },
  {
   "cell_type": "code",
   "execution_count": 2,
   "metadata": {},
   "outputs": [
    {
     "data": {
      "text/html": [
       "<div>\n",
       "<style scoped>\n",
       "    .dataframe tbody tr th:only-of-type {\n",
       "        vertical-align: middle;\n",
       "    }\n",
       "\n",
       "    .dataframe tbody tr th {\n",
       "        vertical-align: top;\n",
       "    }\n",
       "\n",
       "    .dataframe thead th {\n",
       "        text-align: right;\n",
       "    }\n",
       "</style>\n",
       "<table border=\"1\" class=\"dataframe\">\n",
       "  <thead>\n",
       "    <tr style=\"text-align: right;\">\n",
       "      <th></th>\n",
       "      <th>text</th>\n",
       "      <th>newspaper</th>\n",
       "    </tr>\n",
       "  </thead>\n",
       "  <tbody>\n",
       "    <tr>\n",
       "      <td>0</td>\n",
       "      <td>[Financial Analysis and Commentary]\\nPolitical...</td>\n",
       "      <td>US</td>\n",
       "    </tr>\n",
       "    <tr>\n",
       "      <td>1</td>\n",
       "      <td>China appears to be making its long-expected m...</td>\n",
       "      <td>US</td>\n",
       "    </tr>\n",
       "    <tr>\n",
       "      <td>2</td>\n",
       "      <td>[Financial Analysis and Commentary]\\nIn his pu...</td>\n",
       "      <td>US</td>\n",
       "    </tr>\n",
       "    <tr>\n",
       "      <td>3</td>\n",
       "      <td>The possibility that Beijing would call in its...</td>\n",
       "      <td>US</td>\n",
       "    </tr>\n",
       "    <tr>\n",
       "      <td>4</td>\n",
       "      <td>Hong Kong -- President Xi Jinping wanted Tuesd...</td>\n",
       "      <td>US</td>\n",
       "    </tr>\n",
       "  </tbody>\n",
       "</table>\n",
       "</div>"
      ],
      "text/plain": [
       "                                                text newspaper\n",
       "0  [Financial Analysis and Commentary]\\nPolitical...        US\n",
       "1  China appears to be making its long-expected m...        US\n",
       "2  [Financial Analysis and Commentary]\\nIn his pu...        US\n",
       "3  The possibility that Beijing would call in its...        US\n",
       "4  Hong Kong -- President Xi Jinping wanted Tuesd...        US"
      ]
     },
     "execution_count": 2,
     "metadata": {},
     "output_type": "execute_result"
    }
   ],
   "source": [
    "# Corpus\n",
    "## Chinese newspapers\n",
    "china_daily=pd.read_csv('China Daily.csv')\n",
    "people_daily=pd.read_csv('People\\'s Daily.csv')\n",
    "xinhua_agent=pd.read_csv('Xinhua Agent.csv')\n",
    "\n",
    "CH=pd.concat([china_daily, people_daily, xinhua_agent],axis=0,ignore_index=True)\n",
    "\n",
    "CH = CH.drop(['title'], axis=1)\n",
    "CH = CH.dropna(how='all')\n",
    "CH['newspaper'] = 'CH'\n",
    "\n",
    "## US newspapers\n",
    "Wall_Street_Journal = pd.read_csv('Wall Street Journal.csv')\n",
    "Washington_post = pd.read_csv('Washington Post.csv')\n",
    "New_York_Times = pd.read_csv('New York Times.csv')\n",
    "\n",
    "US=pd.concat([Wall_Street_Journal, New_York_Times, Washington_post],axis=0,ignore_index=True)\n",
    "\n",
    "US = US.drop(['title'], axis=1)\n",
    "US = US.dropna(how='all')\n",
    "US['newspaper'] = 'US'\n",
    "\n",
    "corpus = pd.concat([US, CH],axis=0,ignore_index=True)\n",
    "corpus.head()"
   ]
  },
  {
   "cell_type": "code",
   "execution_count": 3,
   "metadata": {},
   "outputs": [
    {
     "data": {
      "text/plain": [
       "US    552\n",
       "CH    549\n",
       "Name: newspaper, dtype: int64"
      ]
     },
     "execution_count": 3,
     "metadata": {},
     "output_type": "execute_result"
    }
   ],
   "source": [
    "# Balance\n",
    "corpus['newspaper'].value_counts()"
   ]
  },
  {
   "cell_type": "code",
   "execution_count": 4,
   "metadata": {},
   "outputs": [
    {
     "data": {
      "text/html": [
       "<div>\n",
       "<style scoped>\n",
       "    .dataframe tbody tr th:only-of-type {\n",
       "        vertical-align: middle;\n",
       "    }\n",
       "\n",
       "    .dataframe tbody tr th {\n",
       "        vertical-align: top;\n",
       "    }\n",
       "\n",
       "    .dataframe thead th {\n",
       "        text-align: right;\n",
       "    }\n",
       "</style>\n",
       "<table border=\"1\" class=\"dataframe\">\n",
       "  <thead>\n",
       "    <tr style=\"text-align: right;\">\n",
       "      <th></th>\n",
       "      <th>text</th>\n",
       "      <th>newspaper</th>\n",
       "    </tr>\n",
       "  </thead>\n",
       "  <tbody>\n",
       "    <tr>\n",
       "      <td>0</td>\n",
       "      <td>['financi analysi and polit unrest ha cast dou...</td>\n",
       "      <td>US</td>\n",
       "    </tr>\n",
       "    <tr>\n",
       "      <td>1</td>\n",
       "      <td>['china appear to be make it longexpect move t...</td>\n",
       "      <td>US</td>\n",
       "    </tr>\n",
       "    <tr>\n",
       "      <td>2</td>\n",
       "      <td>['financi analysi and in hi pursuit of the roa...</td>\n",
       "      <td>US</td>\n",
       "    </tr>\n",
       "    <tr>\n",
       "      <td>3</td>\n",
       "      <td>['the possibl that beij would call in it armi ...</td>\n",
       "      <td>US</td>\n",
       "    </tr>\n",
       "    <tr>\n",
       "      <td>4</td>\n",
       "      <td>['hong kong  presid xi jinp want tuesday  beij...</td>\n",
       "      <td>US</td>\n",
       "    </tr>\n",
       "  </tbody>\n",
       "</table>\n",
       "</div>"
      ],
      "text/plain": [
       "                                                text newspaper\n",
       "0  ['financi analysi and polit unrest ha cast dou...        US\n",
       "1  ['china appear to be make it longexpect move t...        US\n",
       "2  ['financi analysi and in hi pursuit of the roa...        US\n",
       "3  ['the possibl that beij would call in it armi ...        US\n",
       "4  ['hong kong  presid xi jinp want tuesday  beij...        US"
      ]
     },
     "execution_count": 4,
     "metadata": {},
     "output_type": "execute_result"
    }
   ],
   "source": [
    "keywords = [\"\\'s\", \"china daily\", \"people daily\", \"xinhua\", \n",
    "            \"wall street journal\", \"new york times\", \"washington post\",\n",
    "            \"nyt\", \"washington\",\n",
    "            \"editorial\", \"commentary\", \"crdito\", \"keith\"]\n",
    "\n",
    "# Case removal, non-alpha removal, keyword removal, and stemming\n",
    "corpus['text'] = corpus['text'].str.split()\n",
    "corpus['text'] = corpus['text'].apply(lambda x: [re.sub(r'[^a-zA-Z]', \"\",y.lower()) for y in x])\n",
    "corpus['text'] = corpus['text'].apply(lambda x: [y for y in x if y not in keywords])\n",
    "corpus['text'] = corpus['text'].apply(lambda x: [ps.stem(y) for y in x])\n",
    "corpus['text'] = corpus['text'].apply(lambda x: [' '.join(x)])\n",
    "corpus['text'] = pd.Series(corpus['text']).astype(str)\n",
    "corpus.head()"
   ]
  },
  {
   "cell_type": "code",
   "execution_count": 5,
   "metadata": {},
   "outputs": [
    {
     "name": "stdout",
     "output_type": "stream",
     "text": [
      "252    ['shenzhen china  the shenzhen bay sport cente...\n",
      "670    ['vicepremi han zheng on wednesday said that e...\n",
      "954    ['hong kong oct   hong kong high court on frid...\n",
      "567    [' gather in rain to appeal for peac order in ...\n",
      "213    ['hong kong  author here are plan to invok a b...\n",
      "Name: text, dtype: object\n"
     ]
    }
   ],
   "source": [
    "# Split data\n",
    "\n",
    "# Separate features and target\n",
    "corpus_text = corpus.iloc[:,0]\n",
    "corpus_classes = corpus.iloc[:,1]\n",
    "\n",
    "# split the dataset into training and validation datasets \n",
    "x_train, x_test, y_train, y_test = train_test_split(corpus_text, corpus_classes, \n",
    "                                                    test_size=0.3, stratify=corpus_classes)\n",
    "print(x_train.head())"
   ]
  },
  {
   "cell_type": "code",
   "execution_count": 6,
   "metadata": {},
   "outputs": [],
   "source": [
    "# label encode the target variable \n",
    "labels = preprocessing.LabelEncoder()\n",
    "y_train = labels.fit_transform(y_train)\n",
    "y_test = labels.fit_transform(y_test)\n",
    "labels.classes_"
   ]
  },
  {
   "cell_type": "markdown",
   "metadata": {},
   "source": [
    "# Create document term matrices\n",
    "### Create binary DTM in which words present in doc receive value of one\n",
    "### Create term frequency DTM to emphasize most commonly used words\n",
    "### Create TF-IDF DTM to emphasize words most specific to each document"
   ]
  },
  {
   "cell_type": "code",
   "execution_count": 7,
   "metadata": {},
   "outputs": [
    {
     "name": "stdout",
     "output_type": "stream",
     "text": [
      "Count of terms 4735\n",
      "[[0 0 0 ... 0 1 0]\n",
      " [0 0 0 ... 0 0 0]\n",
      " [0 0 0 ... 0 0 0]\n",
      " ...\n",
      " [0 0 0 ... 0 0 0]\n",
      " [0 0 0 ... 0 0 0]\n",
      " [0 0 0 ... 0 0 0]]\n"
     ]
    }
   ],
   "source": [
    "# Create Unigram, Binary DTM\n",
    "vectorizer = CountVectorizer(stop_words='english', min_df=int(5), max_df=0.9, ngram_range=(1, 1), binary=True) \n",
    "vectorizer.fit(x_train)\n",
    "binary1_train = vectorizer.transform(x_train)\n",
    "binary1_test = vectorizer.transform(x_test)\n",
    "\n",
    "print(\"Count of terms\", len(vectorizer.get_feature_names()))\n",
    "print(binary1_train.toarray()) "
   ]
  },
  {
   "cell_type": "code",
   "execution_count": 8,
   "metadata": {},
   "outputs": [
    {
     "name": "stdout",
     "output_type": "stream",
     "text": [
      "Count of terms 10691\n",
      "[[0 0 0 ... 1 1 0]\n",
      " [0 0 0 ... 0 0 0]\n",
      " [0 0 0 ... 0 0 0]\n",
      " ...\n",
      " [0 0 0 ... 0 0 0]\n",
      " [0 0 0 ... 0 0 0]\n",
      " [0 0 0 ... 0 0 0]]\n"
     ]
    }
   ],
   "source": [
    "# Create Bigram, Binary DTM\n",
    "vectorizer = CountVectorizer(stop_words='english', min_df=int(5), max_df=0.9, ngram_range=(1, 2), binary=True) \n",
    "vectorizer.fit(x_train)\n",
    "binary2_train = vectorizer.transform(x_train)\n",
    "binary2_test = vectorizer.transform(x_test)\n",
    "\n",
    "print(\"Count of terms\", len(vectorizer.get_feature_names()))\n",
    "print(binary2_train.toarray()) "
   ]
  },
  {
   "cell_type": "code",
   "execution_count": 9,
   "metadata": {},
   "outputs": [
    {
     "name": "stdout",
     "output_type": "stream",
     "text": [
      "Count of terms 12671\n",
      "[[0 0 0 ... 1 1 0]\n",
      " [0 0 0 ... 0 0 0]\n",
      " [0 0 0 ... 0 0 0]\n",
      " ...\n",
      " [0 0 0 ... 0 0 0]\n",
      " [0 0 0 ... 0 0 0]\n",
      " [0 0 0 ... 0 0 0]]\n"
     ]
    }
   ],
   "source": [
    "# Create Trigram, Binary DTM\n",
    "vectorizer = CountVectorizer(stop_words='english', min_df=int(5), max_df=0.9, ngram_range=(1, 3), binary=True) \n",
    "vectorizer.fit(x_train)\n",
    "binary3_train = vectorizer.transform(x_train)\n",
    "binary3_test = vectorizer.transform(x_test)\n",
    "\n",
    "print(\"Count of terms\", len(vectorizer.get_feature_names()))\n",
    "print(binary3_train.toarray()) "
   ]
  },
  {
   "cell_type": "code",
   "execution_count": 10,
   "metadata": {},
   "outputs": [
    {
     "name": "stdout",
     "output_type": "stream",
     "text": [
      "Count of terms 4735\n",
      "[[0 0 0 ... 0 1 0]\n",
      " [0 0 0 ... 0 0 0]\n",
      " [0 0 0 ... 0 0 0]\n",
      " ...\n",
      " [0 0 0 ... 0 0 0]\n",
      " [0 0 0 ... 0 0 0]\n",
      " [0 0 0 ... 0 0 0]]\n"
     ]
    }
   ],
   "source": [
    "# Create Unigram, Term Frequency DTM\n",
    "vectorizer = CountVectorizer(stop_words='english', min_df=int(5), max_df=0.9, ngram_range=(1, 1)) \n",
    "vectorizer.fit(x_train)\n",
    "tf1_train = vectorizer.transform(x_train)\n",
    "tf1_test = vectorizer.transform(x_test)\n",
    "\n",
    "print(\"Count of terms\", len(vectorizer.get_feature_names()))\n",
    "print(tf1_train.toarray()) "
   ]
  },
  {
   "cell_type": "code",
   "execution_count": 11,
   "metadata": {},
   "outputs": [
    {
     "name": "stdout",
     "output_type": "stream",
     "text": [
      "Count of terms 10691\n",
      "[[0 0 0 ... 1 1 0]\n",
      " [0 0 0 ... 0 0 0]\n",
      " [0 0 0 ... 0 0 0]\n",
      " ...\n",
      " [0 0 0 ... 0 0 0]\n",
      " [0 0 0 ... 0 0 0]\n",
      " [0 0 0 ... 0 0 0]]\n"
     ]
    }
   ],
   "source": [
    "# Create Bigram, Term Frequency DTM\n",
    "vectorizer = CountVectorizer(stop_words='english', min_df=int(5), max_df=0.9, ngram_range=(1, 2)) \n",
    "vectorizer.fit(x_train)\n",
    "tf2_train = vectorizer.transform(x_train)\n",
    "tf2_test = vectorizer.transform(x_test)\n",
    "\n",
    "print(\"Count of terms\", len(vectorizer.get_feature_names()))\n",
    "print(tf2_train.toarray()) "
   ]
  },
  {
   "cell_type": "code",
   "execution_count": 12,
   "metadata": {},
   "outputs": [
    {
     "name": "stdout",
     "output_type": "stream",
     "text": [
      "Count of terms 12671\n",
      "[[0 0 0 ... 1 1 0]\n",
      " [0 0 0 ... 0 0 0]\n",
      " [0 0 0 ... 0 0 0]\n",
      " ...\n",
      " [0 0 0 ... 0 0 0]\n",
      " [0 0 0 ... 0 0 0]\n",
      " [0 0 0 ... 0 0 0]]\n"
     ]
    }
   ],
   "source": [
    "# Create Trigram, Term Frequency DTM\n",
    "vectorizer = CountVectorizer(stop_words='english', min_df=int(5), max_df=0.9, ngram_range=(1, 3)) \n",
    "vectorizer.fit(x_train)\n",
    "tf3_train = vectorizer.transform(x_train)\n",
    "tf3_test = vectorizer.transform(x_test)\n",
    "\n",
    "print(\"Count of terms\", len(vectorizer.get_feature_names()))\n",
    "print(tf3_train.toarray()) "
   ]
  },
  {
   "cell_type": "code",
   "execution_count": 13,
   "metadata": {},
   "outputs": [
    {
     "name": "stdout",
     "output_type": "stream",
     "text": [
      "Count of terms 4735\n",
      "[[0.         0.         0.         ... 0.         0.04013679 0.        ]\n",
      " [0.         0.         0.         ... 0.         0.         0.        ]\n",
      " [0.         0.         0.         ... 0.         0.         0.        ]\n",
      " ...\n",
      " [0.         0.         0.         ... 0.         0.         0.        ]\n",
      " [0.         0.         0.         ... 0.         0.         0.        ]\n",
      " [0.         0.         0.         ... 0.         0.         0.        ]]\n"
     ]
    }
   ],
   "source": [
    "# Create Unigram, TF-IDF DTM\n",
    "vectorizer = TfidfVectorizer(stop_words='english', min_df=int(5), max_df=0.9, ngram_range=(1, 1))\n",
    "vectorizer.fit(x_train)\n",
    "tfidf1_train = vectorizer.transform(x_train)\n",
    "tfidf1_test = vectorizer.transform(x_test)\n",
    "\n",
    "print(\"Count of terms\", len(vectorizer.get_feature_names()))\n",
    "print(tfidf1_train.toarray()) "
   ]
  },
  {
   "cell_type": "code",
   "execution_count": 14,
   "metadata": {},
   "outputs": [
    {
     "name": "stdout",
     "output_type": "stream",
     "text": [
      "Count of terms 10691\n",
      "[[0.         0.         0.         ... 0.03463022 0.03463022 0.        ]\n",
      " [0.         0.         0.         ... 0.         0.         0.        ]\n",
      " [0.         0.         0.         ... 0.         0.         0.        ]\n",
      " ...\n",
      " [0.         0.         0.         ... 0.         0.         0.        ]\n",
      " [0.         0.         0.         ... 0.         0.         0.        ]\n",
      " [0.         0.         0.         ... 0.         0.         0.        ]]\n"
     ]
    }
   ],
   "source": [
    "# Create Bigram, TF-IDF DTM\n",
    "vectorizer = TfidfVectorizer(stop_words='english', min_df=int(5), max_df=0.9, ngram_range=(1, 2))\n",
    "vectorizer.fit(x_train)\n",
    "tfidf2_train = vectorizer.transform(x_train)\n",
    "tfidf2_test = vectorizer.transform(x_test)\n",
    "\n",
    "print(\"Count of terms\", len(vectorizer.get_feature_names()))\n",
    "print(tfidf2_train.toarray()) "
   ]
  },
  {
   "cell_type": "code",
   "execution_count": 15,
   "metadata": {},
   "outputs": [
    {
     "name": "stdout",
     "output_type": "stream",
     "text": [
      "Count of terms 12671\n",
      "[[0.         0.         0.         ... 0.03341607 0.03341607 0.        ]\n",
      " [0.         0.         0.         ... 0.         0.         0.        ]\n",
      " [0.         0.         0.         ... 0.         0.         0.        ]\n",
      " ...\n",
      " [0.         0.         0.         ... 0.         0.         0.        ]\n",
      " [0.         0.         0.         ... 0.         0.         0.        ]\n",
      " [0.         0.         0.         ... 0.         0.         0.        ]]\n"
     ]
    }
   ],
   "source": [
    "# Create Trigram, TF-IDF DTM\n",
    "vectorizer = TfidfVectorizer(stop_words='english', min_df=int(5), max_df=0.9, ngram_range=(1, 3))\n",
    "vectorizer.fit(x_train)\n",
    "tfidf3_train = vectorizer.transform(x_train)\n",
    "tfidf3_test = vectorizer.transform(x_test)\n",
    "\n",
    "print(\"Count of terms\", len(vectorizer.get_feature_names()))\n",
    "print(tfidf3_train.toarray())"
   ]
  },
  {
   "cell_type": "markdown",
   "metadata": {},
   "source": [
    "# Model nine configurations in a loop"
   ]
  },
  {
   "cell_type": "code",
   "execution_count": 16,
   "metadata": {},
   "outputs": [],
   "source": [
    "# Define model training\n",
    "def train_model(dtm, test):\n",
    "    # model the training data\n",
    "    clf.fit(dtm, y_train)\n",
    "    \n",
    "    # predictions on the test data\n",
    "    preds = clf.predict(test)\n",
    "    \n",
    "    # print metrics\n",
    "    print(\"Accuracy:\", '{:1.4f}'.format(accuracy_score(y_test, preds)))\n",
    "    print(\"F1 Score:\", '{:1.4f}'.format(f1_score(y_test, preds)))\n",
    "    print(\"\")\n",
    "    print(classification_report(y_test, preds))\n",
    "    print(\"Confusion Matrix:\")\n",
    "    print(confusion_matrix(y_test, preds))\n",
    "    \n",
    "    return '{:1.4f}'.format(accuracy_score(y_test, preds))"
   ]
  },
  {
   "cell_type": "code",
   "execution_count": 17,
   "metadata": {},
   "outputs": [
    {
     "name": "stdout",
     "output_type": "stream",
     "text": [
      "unigram, binary\n",
      "\n",
      "Accuracy: 0.9728\n",
      "F1 Score: 0.9728\n",
      "\n",
      "              precision    recall  f1-score   support\n",
      "\n",
      "           0       0.97      0.98      0.97       165\n",
      "           1       0.98      0.97      0.97       166\n",
      "\n",
      "    accuracy                           0.97       331\n",
      "   macro avg       0.97      0.97      0.97       331\n",
      "weighted avg       0.97      0.97      0.97       331\n",
      "\n",
      "Confusion Matrix:\n",
      "[[161   4]\n",
      " [  5 161]]\n",
      "======================================================\n",
      "\n",
      "bigram, binary\n",
      "\n",
      "Accuracy: 0.9637\n",
      "F1 Score: 0.9643\n",
      "\n",
      "              precision    recall  f1-score   support\n",
      "\n",
      "           0       0.98      0.95      0.96       165\n",
      "           1       0.95      0.98      0.96       166\n",
      "\n",
      "    accuracy                           0.96       331\n",
      "   macro avg       0.96      0.96      0.96       331\n",
      "weighted avg       0.96      0.96      0.96       331\n",
      "\n",
      "Confusion Matrix:\n",
      "[[157   8]\n",
      " [  4 162]]\n",
      "======================================================\n",
      "\n",
      "trigram, binary\n",
      "\n",
      "Accuracy: 0.9698\n",
      "F1 Score: 0.9704\n",
      "\n",
      "              precision    recall  f1-score   support\n",
      "\n",
      "           0       0.99      0.95      0.97       165\n",
      "           1       0.95      0.99      0.97       166\n",
      "\n",
      "    accuracy                           0.97       331\n",
      "   macro avg       0.97      0.97      0.97       331\n",
      "weighted avg       0.97      0.97      0.97       331\n",
      "\n",
      "Confusion Matrix:\n",
      "[[157   8]\n",
      " [  2 164]]\n",
      "======================================================\n",
      "\n",
      "unigram, TF\n",
      "\n",
      "Accuracy: 0.9517\n",
      "F1 Score: 0.9524\n",
      "\n",
      "              precision    recall  f1-score   support\n",
      "\n",
      "           0       0.96      0.94      0.95       165\n",
      "           1       0.94      0.96      0.95       166\n",
      "\n",
      "    accuracy                           0.95       331\n",
      "   macro avg       0.95      0.95      0.95       331\n",
      "weighted avg       0.95      0.95      0.95       331\n",
      "\n",
      "Confusion Matrix:\n",
      "[[155  10]\n",
      " [  6 160]]\n",
      "======================================================\n",
      "\n",
      "bigram, TF\n",
      "\n",
      "Accuracy: 0.9668\n",
      "F1 Score: 0.9676\n",
      "\n",
      "              precision    recall  f1-score   support\n",
      "\n",
      "           0       0.99      0.95      0.97       165\n",
      "           1       0.95      0.99      0.97       166\n",
      "\n",
      "    accuracy                           0.97       331\n",
      "   macro avg       0.97      0.97      0.97       331\n",
      "weighted avg       0.97      0.97      0.97       331\n",
      "\n",
      "Confusion Matrix:\n",
      "[[156   9]\n",
      " [  2 164]]\n",
      "======================================================\n",
      "\n",
      "trigram, TF\n",
      "\n",
      "Accuracy: 0.9637\n",
      "F1 Score: 0.9645\n",
      "\n",
      "              precision    recall  f1-score   support\n",
      "\n",
      "           0       0.98      0.95      0.96       165\n",
      "           1       0.95      0.98      0.96       166\n",
      "\n",
      "    accuracy                           0.96       331\n",
      "   macro avg       0.96      0.96      0.96       331\n",
      "weighted avg       0.96      0.96      0.96       331\n",
      "\n",
      "Confusion Matrix:\n",
      "[[156   9]\n",
      " [  3 163]]\n",
      "======================================================\n",
      "\n",
      "unigram, TF-IDF\n",
      "\n",
      "Accuracy: 0.9637\n",
      "F1 Score: 0.9641\n",
      "\n",
      "              precision    recall  f1-score   support\n",
      "\n",
      "           0       0.97      0.96      0.96       165\n",
      "           1       0.96      0.97      0.96       166\n",
      "\n",
      "    accuracy                           0.96       331\n",
      "   macro avg       0.96      0.96      0.96       331\n",
      "weighted avg       0.96      0.96      0.96       331\n",
      "\n",
      "Confusion Matrix:\n",
      "[[158   7]\n",
      " [  5 161]]\n",
      "======================================================\n",
      "\n",
      "bigram, TF-IDF\n",
      "\n",
      "Accuracy: 0.9607\n",
      "F1 Score: 0.9619\n",
      "\n",
      "              precision    recall  f1-score   support\n",
      "\n",
      "           0       0.99      0.93      0.96       165\n",
      "           1       0.94      0.99      0.96       166\n",
      "\n",
      "    accuracy                           0.96       331\n",
      "   macro avg       0.96      0.96      0.96       331\n",
      "weighted avg       0.96      0.96      0.96       331\n",
      "\n",
      "Confusion Matrix:\n",
      "[[154  11]\n",
      " [  2 164]]\n",
      "======================================================\n",
      "\n",
      "trigram, TF-IDF\n",
      "\n",
      "Accuracy: 0.9668\n",
      "F1 Score: 0.9676\n",
      "\n",
      "              precision    recall  f1-score   support\n",
      "\n",
      "           0       0.99      0.95      0.97       165\n",
      "           1       0.95      0.99      0.97       166\n",
      "\n",
      "    accuracy                           0.97       331\n",
      "   macro avg       0.97      0.97      0.97       331\n",
      "weighted avg       0.97      0.97      0.97       331\n",
      "\n",
      "Confusion Matrix:\n",
      "[[156   9]\n",
      " [  2 164]]\n",
      "======================================================\n",
      "\n"
     ]
    }
   ],
   "source": [
    "from sklearn.linear_model import LogisticRegression\n",
    "\n",
    "# Use Naive Bayes\n",
    "clf = XGBClassifier() #MultinomialNB()\n",
    "\n",
    "# Model Configurations\n",
    "binary1 = (\"unigram, binary\", binary1_train, binary1_test)\n",
    "binary2 = (\"bigram, binary\",  binary2_train, binary2_test)\n",
    "binary3 = (\"trigram, binary\", binary3_train, binary3_test)\n",
    "tf1 = (\"unigram, TF\", tf1_train, tf1_test)\n",
    "tf2 = (\"bigram, TF\",  tf2_train, tf2_test)\n",
    "tf3 = (\"trigram, TF\", tf3_train, tf3_test)\n",
    "tfidf1 = (\"unigram, TF-IDF\", tfidf1_train, tfidf1_test)\n",
    "tfidf2 = (\"bigram, TF-IDF\",  tfidf2_train, tfidf2_test)\n",
    "tfidf3 = (\"trigram, TF-IDF\", tfidf3_train, tfidf3_test)\n",
    "DTMs = [binary1, binary2, binary3,\n",
    "        tf1, tf2, tf3,\n",
    "        tfidf1, tfidf2, tfidf3]\n",
    "\n",
    "df = pd.DataFrame({\"config\": [],\n",
    "                   \"accuracy\": []})\n",
    "best_config = [\"Best Configuration\", \"none\", 0, \"none\", \"none\"]\n",
    "for data in DTMs:\n",
    "    print(data[0])\n",
    "    print(\"\")\n",
    "    score = train_model(data[1], data[2])\n",
    "    print(\"======================================================\")\n",
    "    print(\"\")\n",
    "    if float(score) > float(best_config[2]):\n",
    "        best_config = [\"Best Configuration:\", data[0], score, data[1], data[2]]\n",
    "    df = df.append({\"config\": data[0],\n",
    "               \"accuracy\": float(score)},\n",
    "               ignore_index=True)\n",
    "    "
   ]
  },
  {
   "cell_type": "code",
   "execution_count": 18,
   "metadata": {},
   "outputs": [
    {
     "data": {
      "text/html": [
       "<div>\n",
       "<style scoped>\n",
       "    .dataframe tbody tr th:only-of-type {\n",
       "        vertical-align: middle;\n",
       "    }\n",
       "\n",
       "    .dataframe tbody tr th {\n",
       "        vertical-align: top;\n",
       "    }\n",
       "\n",
       "    .dataframe thead th {\n",
       "        text-align: right;\n",
       "    }\n",
       "</style>\n",
       "<table border=\"1\" class=\"dataframe\">\n",
       "  <thead>\n",
       "    <tr style=\"text-align: right;\">\n",
       "      <th></th>\n",
       "      <th>config</th>\n",
       "      <th>accuracy</th>\n",
       "    </tr>\n",
       "  </thead>\n",
       "  <tbody>\n",
       "    <tr>\n",
       "      <td>0</td>\n",
       "      <td>unigram, binary</td>\n",
       "      <td>0.9728</td>\n",
       "    </tr>\n",
       "    <tr>\n",
       "      <td>1</td>\n",
       "      <td>bigram, binary</td>\n",
       "      <td>0.9637</td>\n",
       "    </tr>\n",
       "    <tr>\n",
       "      <td>2</td>\n",
       "      <td>trigram, binary</td>\n",
       "      <td>0.9698</td>\n",
       "    </tr>\n",
       "    <tr>\n",
       "      <td>3</td>\n",
       "      <td>unigram, TF</td>\n",
       "      <td>0.9517</td>\n",
       "    </tr>\n",
       "    <tr>\n",
       "      <td>4</td>\n",
       "      <td>bigram, TF</td>\n",
       "      <td>0.9668</td>\n",
       "    </tr>\n",
       "    <tr>\n",
       "      <td>5</td>\n",
       "      <td>trigram, TF</td>\n",
       "      <td>0.9637</td>\n",
       "    </tr>\n",
       "    <tr>\n",
       "      <td>6</td>\n",
       "      <td>unigram, TF-IDF</td>\n",
       "      <td>0.9637</td>\n",
       "    </tr>\n",
       "    <tr>\n",
       "      <td>7</td>\n",
       "      <td>bigram, TF-IDF</td>\n",
       "      <td>0.9607</td>\n",
       "    </tr>\n",
       "    <tr>\n",
       "      <td>8</td>\n",
       "      <td>trigram, TF-IDF</td>\n",
       "      <td>0.9668</td>\n",
       "    </tr>\n",
       "  </tbody>\n",
       "</table>\n",
       "</div>"
      ],
      "text/plain": [
       "            config  accuracy\n",
       "0  unigram, binary    0.9728\n",
       "1   bigram, binary    0.9637\n",
       "2  trigram, binary    0.9698\n",
       "3      unigram, TF    0.9517\n",
       "4       bigram, TF    0.9668\n",
       "5      trigram, TF    0.9637\n",
       "6  unigram, TF-IDF    0.9637\n",
       "7   bigram, TF-IDF    0.9607\n",
       "8  trigram, TF-IDF    0.9668"
      ]
     },
     "execution_count": 18,
     "metadata": {},
     "output_type": "execute_result"
    }
   ],
   "source": [
    "# Each model's result\n",
    "df"
   ]
  },
  {
   "cell_type": "code",
   "execution_count": 25,
   "metadata": {},
   "outputs": [
    {
     "data": {
      "image/png": "[encoded data removed]",
      "text/plain": [
       "<Figure size 432x288 with 1 Axes>"
      ]
     },
     "metadata": {
      "needs_background": "dark"
     },
     "output_type": "display_data"
    }
   ],
   "source": [
    "# Create plot\n",
    "plt.figure()\n",
    "\n",
    "# Create plot title\n",
    "plt.title(\"Accuracy of Models\")\n",
    "\n",
    "# Add bars\n",
    "plt.bar(range(df.shape[0]), df['accuracy'])\n",
    "plt.yticks([0,.2,.4,.6,.8,1])\n",
    "plt.ylabel('Accuracy')\n",
    "\n",
    "# Add feature names as x-axis labels\n",
    "plt.xticks(range(df.shape[0]), df['config'], rotation=45)\n",
    "plt.xlabel('Model')\n",
    "\n",
    "# Show plot\n",
    "plt.show()"
   ]
  },
  {
   "cell_type": "code",
   "execution_count": 20,
   "metadata": {},
   "outputs": [
    {
     "name": "stdout",
     "output_type": "stream",
     "text": [
      "['Best Configuration:', 'unigram, binary', '0.9728', <770x4735 sparse matrix of type '<class 'numpy.int64'>'\n",
      "\twith 173568 stored elements in Compressed Sparse Row format>, <331x4735 sparse matrix of type '<class 'numpy.int64'>'\n",
      "\twith 76576 stored elements in Compressed Sparse Row format>]\n"
     ]
    }
   ],
   "source": [
    "# Best Configuration\n",
    "print(best_config)"
   ]
  },
  {
   "cell_type": "code",
   "execution_count": 21,
   "metadata": {},
   "outputs": [],
   "source": [
    "# Best Configuration\n",
    "clf.fit(best_config[3], y_train)\n",
    "\n",
    "# predictions on the test data\n",
    "preds = clf.predict(best_config[4])\n",
    "\n",
    "# feature importance\n",
    "importances = clf.feature_importances_\n",
    "\n",
    "# Sort feature importances in descending order\n",
    "indices = np.argsort(importances)[::-1]\n",
    "\n",
    "# Rearrange feature names so they match the sorted feature importances\n",
    "names = [vectorizer.get_feature_names()[i] for i in indices]"
   ]
  },
  {
   "cell_type": "code",
   "execution_count": 22,
   "metadata": {},
   "outputs": [
    {
     "data": {
      "text/plain": [
       "['crdito keith',\n",
       " 'depart',\n",
       " 'govern reiter',\n",
       " 'everi hong',\n",
       " 'hardcor',\n",
       " 'elsewher',\n",
       " 'affect busi',\n",
       " 'help boost',\n",
       " 'harden',\n",
       " 'historian',\n",
       " 'hksar said',\n",
       " 'haul',\n",
       " 'ha alway',\n",
       " 'basic law said',\n",
       " 'accus polic',\n",
       " 'framework',\n",
       " 'angel',\n",
       " 'caus troubl',\n",
       " 'enlist',\n",
       " 'form human chain',\n",
       " 'better',\n",
       " 'administr ha',\n",
       " 'comment hong kong',\n",
       " 'day wa',\n",
       " 'faction',\n",
       " 'audienc',\n",
       " 'align',\n",
       " 'china',\n",
       " 'detaine',\n",
       " 'form intern affair',\n",
       " 'better progress hong',\n",
       " 'effort end',\n",
       " 'franci',\n",
       " 'consider',\n",
       " 'alleg',\n",
       " 'anoth',\n",
       " 'basic law hksar',\n",
       " 'correspond action',\n",
       " 'extrem violent',\n",
       " 'attack liaison',\n",
       " 'china ha becom',\n",
       " 'addit',\n",
       " 'countri ha',\n",
       " 'big',\n",
       " 'feder women',\n",
       " 'group hold',\n",
       " 'beij issu',\n",
       " 'avoid',\n",
       " 'float',\n",
       " 'affair pure']"
      ]
     },
     "execution_count": 22,
     "metadata": {},
     "output_type": "execute_result"
    }
   ],
   "source": [
    "# Main features\n",
    "names[0:50]"
   ]
  },
  {
   "cell_type": "code",
   "execution_count": 23,
   "metadata": {},
   "outputs": [
    {
     "data": {
      "image/png": "[encoded data removed]",
      "text/plain": [
       "<Figure size 432x288 with 1 Axes>"
      ]
     },
     "metadata": {
      "needs_background": "dark"
     },
     "output_type": "display_data"
    }
   ],
   "source": [
    "num_features = 20\n",
    "\n",
    "# Create plot\n",
    "plt.figure()\n",
    "\n",
    "# Create plot title\n",
    "plt.title(\"Feature Importance\")\n",
    "\n",
    "# Add bars\n",
    "plt.bar(range(num_features), importances[indices][0:num_features])\n",
    "\n",
    "# Add feature names as x-axis labels\n",
    "plt.xticks(range(num_features), names[0:num_features], rotation=90)\n",
    "\n",
    "# Show plot\n",
    "plt.show()"
   ]
  },
  {
   "cell_type": "code",
   "execution_count": null,
   "metadata": {},
   "outputs": [],
   "source": []
  },
  {
   "cell_type": "code",
   "execution_count": null,
   "metadata": {},
   "outputs": [],
   "source": []
  },
  {
   "cell_type": "code",
   "execution_count": null,
   "metadata": {},
   "outputs": [],
   "source": []
  }
 ],
 "metadata": {
  "kernelspec": {
   "display_name": "Python 3",
   "language": "python",
   "name": "python3"
  },
  "language_info": {
   "codemirror_mode": {
    "name": "ipython",
    "version": 3
   },
   "file_extension": ".py",
   "mimetype": "text/x-python",
   "name": "python",
   "nbconvert_exporter": "python",
   "pygments_lexer": "ipython3",
   "version": "3.7.4"
  }
 },
 "nbformat": 4,
 "nbformat_minor": 2
}
